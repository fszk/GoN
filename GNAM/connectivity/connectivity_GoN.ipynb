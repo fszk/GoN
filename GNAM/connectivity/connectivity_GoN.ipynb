{
 "cells": [
  {
   "cell_type": "markdown",
   "id": "99f58b75-8696-4a2c-8092-d64207b5c810",
   "metadata": {},
   "source": [
    "# Packages"
   ]
  },
  {
   "cell_type": "code",
   "execution_count": 10,
   "id": "2174d22a-53ec-45a8-a798-73a2e71798bc",
   "metadata": {},
   "outputs": [],
   "source": [
    "import netCDF4 as nc4\n",
    "\n",
    "import mat73\n",
    "\n",
    "import numpy as np  #The basic python scientific package\n",
    "\n",
    "import pandas as pd #Datascience package for handling data\n",
    "from pandas import read_csv\n",
    "\n",
    "from datetime import datetime\n",
    "from time import time\n",
    "\n",
    "import math\n",
    "\n",
    "import matplotlib.pyplot as plt \n"
   ]
  },
  {
   "cell_type": "markdown",
   "id": "83f8c523-27d4-42dd-a3c0-dd60d2fd75dd",
   "metadata": {
    "tags": []
   },
   "source": [
    "# Declaration Path"
   ]
  },
  {
   "cell_type": "code",
   "execution_count": 117,
   "id": "e318fc9d-810a-481b-93fd-7790ea6dd85d",
   "metadata": {},
   "outputs": [],
   "source": [
    "dir_out = '/Users/floriankokoszka/Desktop/GNAM/connectivity/'"
   ]
  },
  {
   "cell_type": "code",
   "execution_count": null,
   "id": "53595b86-213d-48c5-abef-59c7db8ade08",
   "metadata": {},
   "outputs": [],
   "source": []
  },
  {
   "cell_type": "code",
   "execution_count": null,
   "id": "5cd30299-4875-4876-840d-bcb2128d2c7a",
   "metadata": {},
   "outputs": [],
   "source": []
  },
  {
   "cell_type": "markdown",
   "id": "e31efde6-ec80-4671-b9ff-ebdc79c48ac3",
   "metadata": {
    "tags": []
   },
   "source": [
    "# Geography"
   ]
  },
  {
   "cell_type": "code",
   "execution_count": 69,
   "id": "aaa2c320-03c0-49a0-acbc-9ff45e0e839e",
   "metadata": {},
   "outputs": [],
   "source": [
    "url_ITcoast = 'https://raw.githubusercontent.com/fszk/data/main/bathy/coast/ITcoast.csv'\n",
    "\n",
    "import pandas as pd\n",
    "\n",
    "ITcoast = pd.read_csv(url_ITcoast)\n",
    "\n",
    "\n",
    "ITcoast\n",
    "\n",
    "TCOAST_lon = np.array(ITcoast['lonIT'])\n",
    "TCOAST_lat = np.array(ITcoast['latIT'])\n"
   ]
  },
  {
   "cell_type": "markdown",
   "id": "bec0919d-77d0-4703-b1f7-b7b2b3981a36",
   "metadata": {
    "jp-MarkdownHeadingCollapsed": true,
    "tags": []
   },
   "source": [
    "# Definitions of zones"
   ]
  },
  {
   "cell_type": "code",
   "execution_count": 44,
   "id": "73d04be9-69f7-4b93-a8c3-af2b7592c76e",
   "metadata": {},
   "outputs": [],
   "source": [
    "import haversine as hs"
   ]
  },
  {
   "cell_type": "code",
   "execution_count": 45,
   "id": "3e6b8f98-7e69-49bd-987f-87f4e2b59750",
   "metadata": {},
   "outputs": [
    {
     "name": "stdout",
     "output_type": "stream",
     "text": [
      "7.182257024904201 km\n",
      "6.961265487659881 km\n",
      "49.997597950968355 km²\n"
     ]
    }
   ],
   "source": [
    "dlon = 0.0289*2.235\n",
    "dlat = 0.0289*2.235\n",
    "\n",
    "dlon = 0.0645915\n",
    "dlat = 0.0645915 \n",
    "\n",
    "x0 = 14.25\n",
    "y0 = 40.80\n",
    "\n",
    "loc1 = (x0,y0)\n",
    "loc2 = (x0+dlon,y0)\n",
    "dx = hs.haversine(loc1,loc2)\n",
    "print(dx,'km')\n",
    "\n",
    "loc1 = (x0,y0)\n",
    "loc2 = (x0,y0+dlat)\n",
    "dy = hs.haversine(loc1,loc2)\n",
    "print(dy,'km')\n",
    "\n",
    "ds = dx*dy\n",
    "print(ds,'km²')\n",
    "\n",
    "dom_x = [x0, x0+dlon, x0+dlon,x0]\n",
    "dom_y = [y0, y0, y0+dlat, y0+dlat]"
   ]
  },
  {
   "cell_type": "code",
   "execution_count": 46,
   "id": "f6c38d6e-f296-45a6-8eb8-533f689a7e10",
   "metadata": {},
   "outputs": [
    {
     "name": "stdout",
     "output_type": "stream",
     "text": [
      "ZONES DEFINED\n"
     ]
    }
   ],
   "source": [
    "dlon = 0.0645915\n",
    "dlat = 0.0645915 \n",
    "\n",
    "pouieme = 1e-3\n",
    "\n",
    "ZN_NM = []\n",
    "ZN_ID = []\n",
    "DOM_X = []\n",
    "DOM_Y = []\n",
    "\n",
    "x0 = 13.5946-pouieme ; y0 = 41.1823+0.02 ; DOM_X.append([x0, x0+dlon, x0+dlon,x0]); DOM_Y.append([y0, y0, y0+dlat, y0+dlat]); ZN_NM.append('Formia') ; ZN_ID.append(1)\n",
    "x0 = 13.6592 ; y0 = 41.1823+0.01 ; DOM_X.append([x0, x0+dlon, x0+dlon,x0]); DOM_Y.append([y0, y0, y0+dlat, y0+dlat]); ZN_NM.append('Minturno'); ZN_ID.append(1)\n",
    "x0 = 13.7238+pouieme ; y0 = 41.15+0.01 ; DOM_X.append([x0, x0+dlon, x0+dlon,x0]); DOM_Y.append([y0, y0, y0+dlat, y0+dlat]); ZN_NM.append('Cellole') ; ZN_ID.append(1)\n",
    "x0 = 13.7884+2*pouieme ; y0 = 41.1069 ; DOM_X.append([x0, x0+dlon, x0+dlon,x0]); DOM_Y.append([y0, y0, y0+dlat, y0+dlat]); ZN_NM.append('Dominzia') ;ZN_ID.append(1)\n",
    "x0 = 13.853+3*pouieme ; y0 = 41.0553 ; DOM_X.append([x0, x0+dlon, x0+dlon,x0]); DOM_Y.append([y0, y0, y0+dlat, y0+dlat]); ZN_NM.append('Mondragrone') ; ZN_ID.append(1)\n",
    "x0 = 13.853 ; y0 = 40.9907-pouieme ; DOM_X.append([x0, x0+dlon, x0+dlon,x0]); DOM_Y.append([y0, y0, y0+dlat, y0+dlat]); ZN_NM.append('Volturno') ; ZN_ID.append(100)\n",
    "x0 = 13.9175+2*pouieme ; y0 = 40.9584 ; DOM_X.append([x0, x0+dlon, x0+dlon,x0]); DOM_Y.append([y0, y0, y0+dlat, y0+dlat]); ZN_NM.append('Coppola') ; ZN_ID.append(1)\n",
    "x0 = 13.9498 ; y0 = 40.8938-1*pouieme ; DOM_X.append([x0, x0+dlon, x0+dlon,x0]); DOM_Y.append([y0, y0, y0+dlat, y0+dlat]); ZN_NM.append('Patria') ; ZN_ID.append(1)\n",
    "x0 = 13.9821+0.015 ; y0 = 40.8292-2*pouieme ; DOM_X.append([x0, x0+dlon, x0+dlon,x0]); DOM_Y.append([y0, y0, y0+dlat, y0+dlat]); ZN_NM.append('Torregaveta') ; ZN_ID.append(1)\n",
    "\n",
    "x0 = 13.8852-2*pouieme ; y0 = 40.7646-3*pouieme - 0.02 ; DOM_X.append([x0, x0+dlon, x0+dlon,x0]); DOM_Y.append([y0, y0, y0+dlat, y0+dlat]); ZN_NM.append('IschiAMP') ; ZN_ID.append(1)\n",
    "x0 = 13.8206-3*pouieme ; y0 = 40.7646-3*pouieme - 0.02 ; DOM_X.append([x0, x0+dlon, x0+dlon,x0]); DOM_Y.append([y0, y0, y0+dlat, y0+dlat]); ZN_NM.append('IschiaNW') ; ZN_ID.append(1)\n",
    "\n",
    "\n",
    "x0 = 13.9498 ; y0 = 40.7646-3*pouieme-0.01 ; DOM_X.append([x0, x0+dlon, x0+dlon,x0]); DOM_Y.append([y0, y0, y0+dlat, y0+dlat]); ZN_NM.append('CanaleN') ; ZN_ID.append(12)\n",
    "x0 = 13.97-pouieme ; y0 = 40.667+0.015 ; DOM_X.append([x0, x0+dlon, x0+dlon,x0]); DOM_Y.append([y0, y0, y0+dlat, y0+dlat]); ZN_NM.append('CanaleW') ; ZN_ID.append(12)\n",
    "x0 = 14.0346 ; y0 = 40.7187+0.03 ; DOM_X.append([x0, x0+dlon, x0+dlon,x0]); DOM_Y.append([y0, y0, y0+dlat, y0+dlat]); ZN_NM.append('CanaleE') ; ZN_ID.append(12)\n",
    "\n",
    "x0 = 14.0992+pouieme ; y0 = 40.7424+0.035 ; DOM_X.append([x0, x0+dlon, x0+dlon,x0]); DOM_Y.append([y0, y0, y0+dlat, y0+dlat]); ZN_NM.append('Bagnoli'); ZN_ID.append(2)\n",
    "x0 = 14.165+2*pouieme ; y0 = 40.725+0.03 ; DOM_X.append([x0, x0+dlon, x0+dlon,x0]); DOM_Y.append([y0, y0, y0+dlat, y0+dlat]); ZN_NM.append('Gaiola') ; ZN_ID.append(2)\n",
    "x0 = 14.2356 ; y0 = 40.7569 ; DOM_X.append([x0, x0+dlon, x0+dlon,x0]); DOM_Y.append([y0, y0, y0+dlat, y0+dlat]); ZN_NM.append('Napoli-MC') ; ZN_ID.append(2)\n",
    "x0 = 14.3213+0.01 ; y0 = 40.7142+0.03 ; DOM_X.append([x0, x0+dlon, x0+dlon,x0]); DOM_Y.append([y0, y0, y0+dlat, y0+dlat]); ZN_NM.append('TorrGr') ; ZN_ID.append(2)\n",
    "\n",
    "\n",
    "x0 = 14.4013+0.02 ; y0 = 40.685+0.005 ; DOM_X.append([x0, x0+dlon, x0+dlon,x0]); DOM_Y.append([y0, y0, y0+dlat, y0+dlat]); ZN_NM.append('Sarno') ; ZN_ID.append(200)\n",
    "x0 = 14.4013-dlon-10*pouieme+0.03 ; y0 = 40.6427-0.02  ; DOM_X.append([x0, x0+dlon, x0+dlon,x0]); DOM_Y.append([y0, y0, y0+dlat, y0+dlat]); ZN_NM.append('VicoSorr') ; ZN_ID.append(2)\n",
    "x0 = x0-dlon-5*pouieme+0.0025 ; y0 = y0-dlat/2 ; DOM_X.append([x0, x0+dlon, x0+dlon,x0]); DOM_Y.append([y0, y0, y0+dlat, y0+dlat]); ZN_NM.append('MassaL') ; ZN_ID.append(2)\n",
    "\n",
    "\n",
    "#x0 = 14.3213 ; y0 = 40.6427 ; DOM_X.append([x0, x0+dlon, x0+dlon,x0]); DOM_Y.append([y0, y0, y0+dlat, y0+dlat]); ZN_NM.append('Vico') ; ZN_ID.append(2)\n",
    "x0 = 14.1814+0.01 ; y0 = 40.5612- 0.04 ; DOM_X.append([x0, x0+dlon, x0+dlon,x0]); DOM_Y.append([y0, y0, y0+dlat, y0+dlat]); ZN_NM.append('Capri') ; ZN_ID.append(2)\n",
    "x0 = 14.11 ; y0 = 40.6+0.015 ; DOM_X.append([x0, x0+dlon, x0+dlon,x0]); DOM_Y.append([y0, y0, y0+dlat, y0+dlat]); ZN_NM.append('CanyonDohrn') ; ZN_ID.append(2)\n",
    "\n",
    "x0 = 14.256+0.005 ; y0 = 40.5212 ; DOM_X.append([x0, x0+dlon, x0+dlon,x0]); DOM_Y.append([y0, y0, y0+dlat, y0+dlat]); ZN_NM.append('BoccaP') ; ZN_ID.append(23)\n",
    "\n",
    "x0 = 14.3346-3*pouieme+0.005 ; y0 = 40.5173+0.005 ; DOM_X.append([x0, x0+dlon, x0+dlon,x0]); DOM_Y.append([y0, y0, y0+dlat, y0+dlat]); ZN_NM.append('PuntaCamp') ; ZN_ID.append(3)\n",
    "x0 = 14.3992-2*pouieme+0.005 ; y0 = 40.5496+0.005 ; DOM_X.append([x0, x0+dlon, x0+dlon,x0]); DOM_Y.append([y0, y0, y0+dlat, y0+dlat]); ZN_NM.append('Fontanelle') ; ZN_ID.append(3)\n",
    "x0 = 14.4638-1*pouieme+0.005 ; y0 = 40.5496+0.04 ; DOM_X.append([x0, x0+dlon, x0+dlon,x0]); DOM_Y.append([y0, y0, y0+dlat, y0+dlat]); ZN_NM.append('Positano') ; ZN_ID.append(3)\n",
    "x0 = 14.5284+0.005 ; y0 = 40.5496+0.03 ; DOM_X.append([x0, x0+dlon, x0+dlon,x0]); DOM_Y.append([y0, y0, y0+dlat, y0+dlat]); ZN_NM.append('Praiano') ; ZN_ID.append(3)\n",
    "x0 = 14.593+pouieme+0.005 ; y0 = 40.5819+0.02 ; DOM_X.append([x0, x0+dlon, x0+dlon,x0]); DOM_Y.append([y0, y0, y0+dlat, y0+dlat]); ZN_NM.append('Maiori') ; ZN_ID.append(3)\n",
    "x0 = 14.6575+2*pouieme+0.005 ; y0 = 40.5819+0.02 ; DOM_X.append([x0, x0+dlon, x0+dlon,x0]); DOM_Y.append([y0, y0, y0+dlat, y0+dlat]); ZN_NM.append('Cetara') ; ZN_ID.append(3)\n",
    "x0 = 14.7221+3*pouieme+0.005 ; y0 = 40.6142+0.01 ; DOM_X.append([x0, x0+dlon, x0+dlon,x0]); DOM_Y.append([y0, y0, y0+dlat, y0+dlat]); ZN_NM.append('VietriSalerno') ; ZN_ID.append(3)\n",
    "x0 = 14.7867+4*pouieme+0.01 ; y0 = 40.5819 ; DOM_X.append([x0, x0+dlon, x0+dlon,x0]); DOM_Y.append([y0, y0, y0+dlat, y0+dlat]); ZN_NM.append('Arechi') ; ZN_ID.append(3)\n",
    "x0 = 14.8298+0.02 ; y0 = 40.5173-pouieme ; DOM_X.append([x0, x0+dlon, x0+dlon,x0]); DOM_Y.append([y0, y0, y0+dlat, y0+dlat]); ZN_NM.append('Aversana') ; ZN_ID.append(3)\n",
    "x0 = 14.8729+0.02 ; y0 = 40.4527-2*pouieme ; DOM_X.append([x0, x0+dlon, x0+dlon,x0]); DOM_Y.append([y0, y0, y0+dlat, y0+dlat]); ZN_NM.append('Sele') ; ZN_ID.append(300)\n",
    "x0 = 14.9051+0.02 ; y0 = 40.3881-3*pouieme ; DOM_X.append([x0, x0+dlon, x0+dlon,x0]); DOM_Y.append([y0, y0, y0+dlat, y0+dlat]); ZN_NM.append('Paestum') ; ZN_ID.append(3)\n",
    "x0 = 14.9051+0.015 ; y0 = 40.3235-4*pouieme ; DOM_X.append([x0, x0+dlon, x0+dlon,x0]); DOM_Y.append([y0, y0, y0+dlat, y0+dlat]); ZN_NM.append('Agropoli') ; ZN_ID.append(3)\n",
    "x0 = 14.8729+0.005 ; y0 = 40.2589-5*pouieme ; DOM_X.append([x0, x0+dlon, x0+dlon,x0]); DOM_Y.append([y0, y0, y0+dlat, y0+dlat]); ZN_NM.append('S.MariaCast') ; ZN_ID.append(3)\n",
    "\n",
    "\n",
    "x0 = 13.525 ; y0 = 41.13 ; DOM_X.append([x0, x0+dlon, x0+dlon,x0]); DOM_Y.append([y0, y0, y0+dlat, y0+dlat]); ZN_NM.append('GaeTi1') ; ZN_ID.append(10)\n",
    "x0 = x0+dlon/1.5 ; y0 = y0-dlat-1*pouieme ; DOM_X.append([x0, x0+dlon, x0+dlon,x0]); DOM_Y.append([y0, y0, y0+dlat, y0+dlat]); ZN_NM.append('GaeTi2') ; ZN_ID.append(10)\n",
    "x0 = x0+dlon/2 ; y0 = y0-dlat-1*pouieme ; DOM_X.append([x0, x0+dlon, x0+dlon,x0]); DOM_Y.append([y0, y0, y0+dlat, y0+dlat]); ZN_NM.append('GaeTi3') ; ZN_ID.append(10)\n",
    "x0 = x0+dlon/2 ; y0 = y0-dlat-1*pouieme ; DOM_X.append([x0, x0+dlon, x0+dlon,x0]); DOM_Y.append([y0, y0, y0+dlat, y0+dlat]); ZN_NM.append('GaeTi4') ; ZN_ID.append(10)\n",
    "x0 = x0+dlon/2 ; y0 = y0-dlat-1*pouieme ; DOM_X.append([x0, x0+dlon, x0+dlon,x0]); DOM_Y.append([y0, y0, y0+dlat, y0+dlat]); ZN_NM.append('GaeTi5') ; ZN_ID.append(10)\n",
    "x0 = x0+dlon/2 ; y0 = y0-dlat-1*pouieme ; DOM_X.append([x0, x0+dlon, x0+dlon,x0]); DOM_Y.append([y0, y0, y0+dlat, y0+dlat]); ZN_NM.append('GaeTi6') ; ZN_ID.append(10)\n",
    "x0 = x0+dlon/2 ; y0 = y0-dlat-1*pouieme ; DOM_X.append([x0, x0+dlon, x0+dlon,x0]); DOM_Y.append([y0, y0, y0+dlat, y0+dlat]); ZN_NM.append('GaeTi7') ; ZN_ID.append(10)\n",
    "x0 = x0+dlon/1.6 ; y0 = y0-dlat-1*pouieme ; DOM_X.append([x0, x0+dlon, x0+dlon,x0]); DOM_Y.append([y0, y0, y0+dlat, y0+dlat]); ZN_NM.append('GaeTi8') ; ZN_ID.append(10)\n",
    "\n",
    "#x0 = 13.86-3*pouieme ; y0 = 40.62 ; DOM_X.append([x0, x0+dlon, x0+dlon,x0]); DOM_Y.append([y0, y0, y0+dlat, y0+dlat]); ZN_NM.append('BoccaG1') ; ZN_ID.append(20)\n",
    "\n",
    "x0 = x0+dlon+1*pouieme ; y0 = 40.62 ; DOM_X.append([x0, x0+dlon, x0+dlon,x0]); DOM_Y.append([y0, y0, y0+dlat, y0+dlat]); ZN_NM.append('BoccaG1') ; ZN_ID.append(20)\n",
    "x0 = x0+dlon+1*pouieme ; y0 = y0-dlat/2 ; DOM_X.append([x0, x0+dlon, x0+dlon,x0]); DOM_Y.append([y0, y0, y0+dlat, y0+dlat]); ZN_NM.append('BoccaG2') ; ZN_ID.append(20)\n",
    "x0 = x0+dlon+1*pouieme ; y0 = y0-dlat/2 ; DOM_X.append([x0, x0+dlon, x0+dlon,x0]); DOM_Y.append([y0, y0, y0+dlat, y0+dlat]); ZN_NM.append('BoccaG3') ; ZN_ID.append(20)\n",
    "x0 = x0+dlon+1*pouieme ; y0 = y0-dlat/2 ; DOM_X.append([x0, x0+dlon, x0+dlon,x0]); DOM_Y.append([y0, y0, y0+dlat, y0+dlat]); ZN_NM.append('BoccaG4') ; ZN_ID.append(20)\n",
    "x0 = x0+dlon+1*pouieme ; y0 = y0-dlat/2 ; DOM_X.append([x0, x0+dlon, x0+dlon,x0]); DOM_Y.append([y0, y0, y0+dlat, y0+dlat]); ZN_NM.append('BoccaG5') ; ZN_ID.append(20)\n",
    "\n",
    "\n",
    "#x0 = 13.9246-2*pouieme ; y0 = 40.5877 ; DOM_X.append([x0, x0+dlon, x0+dlon,x0]); DOM_Y.append([y0, y0, y0+dlat, y0+dlat]); ZN_NM.append('BoccaG2') ; ZN_ID.append(20)\n",
    "#x0 = 13.9892-1*pouieme ; y0 = 40.5554 ; DOM_X.append([x0, x0+dlon, x0+dlon,x0]); DOM_Y.append([y0, y0, y0+dlat, y0+dlat]); ZN_NM.append('BoccaG3') ; ZN_ID.append(20)\n",
    "#x0 = 14.0538 ; y0 = 40.5231 ; DOM_X.append([x0, x0+dlon, x0+dlon,x0]); DOM_Y.append([y0, y0, y0+dlat, y0+dlat]); ZN_NM.append('BoccaG4') ; ZN_ID.append(20)\n",
    "#x0 = 14.1184+1*pouieme ; y0 = 40.4908 ; DOM_X.append([x0, x0+dlon, x0+dlon,x0]); DOM_Y.append([y0, y0, y0+dlat, y0+dlat]); ZN_NM.append('BoccaG5') ; ZN_ID.append(20)\n",
    "\n",
    "#x0 = 14.1184+dlon+2*pouieme ; y0 = 40.4908-dlat/2 ; DOM_X.append([x0, x0+dlon, x0+dlon,x0]); DOM_Y.append([y0, y0, y0+dlat, y0+dlat]); ZN_NM.append('SalerTirr1') ; ZN_ID.append(30)\n",
    "\n",
    "x0 = x0+dlon+1*pouieme ; y0 = y0-dlat/1.5 ; DOM_X.append([x0, x0+dlon, x0+dlon,x0]); DOM_Y.append([y0, y0, y0+dlat, y0+dlat]); ZN_NM.append('SalerTirr1') ; ZN_ID.append(30)\n",
    "x0 = x0+dlon+1*pouieme ; y0 = y0-dlat/2 ; DOM_X.append([x0, x0+dlon, x0+dlon,x0]); DOM_Y.append([y0, y0, y0+dlat, y0+dlat]); ZN_NM.append('SalerTirr2') ; ZN_ID.append(30)\n",
    "x0 = x0+dlon+1*pouieme ; y0 = y0-dlat/2 ; DOM_X.append([x0, x0+dlon, x0+dlon,x0]); DOM_Y.append([y0, y0, y0+dlat, y0+dlat]); ZN_NM.append('SalerTirr3') ; ZN_ID.append(30)\n",
    "x0 = x0+dlon+1*pouieme ; y0 = y0-dlat/2 ; DOM_X.append([x0, x0+dlon, x0+dlon,x0]); DOM_Y.append([y0, y0, y0+dlat, y0+dlat]); ZN_NM.append('SalerTirr4') ; ZN_ID.append(30)\n",
    "x0 = x0+dlon+1*pouieme ; y0 = y0-dlat/2 ; DOM_X.append([x0, x0+dlon, x0+dlon,x0]); DOM_Y.append([y0, y0, y0+dlat, y0+dlat]); ZN_NM.append('SalerTirr5') ; ZN_ID.append(30)\n",
    "x0 = x0+dlon+1*pouieme ; y0 = y0-dlat/2 ; DOM_X.append([x0, x0+dlon, x0+dlon,x0]); DOM_Y.append([y0, y0, y0+dlat, y0+dlat]); ZN_NM.append('SalerTirr6') ; ZN_ID.append(30)\n",
    "x0 = x0+dlon+1*pouieme ; y0 = y0-dlat/2 ; DOM_X.append([x0, x0+dlon, x0+dlon,x0]); DOM_Y.append([y0, y0, y0+dlat, y0+dlat]); ZN_NM.append('SalerTirr7') ; ZN_ID.append(30)\n",
    "x0 = x0+dlon+1*pouieme ; y0 = y0-dlat/3 ; DOM_X.append([x0, x0+dlon, x0+dlon,x0]); DOM_Y.append([y0, y0, y0+dlat, y0+dlat]); ZN_NM.append('SalerTirr8') ; ZN_ID.append(30)\n",
    "x0 = x0+dlon+1*pouieme ; y0 = y0-dlat/3 ; DOM_X.append([x0, x0+dlon, x0+dlon,x0]); DOM_Y.append([y0, y0, y0+dlat, y0+dlat]); ZN_NM.append('SalerTirr9') ; ZN_ID.append(30)\n",
    "x0 = x0+dlon+1*pouieme ; y0 = y0-dlat/3 ; DOM_X.append([x0, x0+dlon, x0+dlon,x0]); DOM_Y.append([y0, y0, y0+dlat, y0+dlat]); ZN_NM.append('SalerTirr10') ; ZN_ID.append(30)\n",
    "x0 = x0+dlon+1*pouieme ; y0 = y0-dlat/4 ; DOM_X.append([x0, x0+dlon, x0+dlon,x0]); DOM_Y.append([y0, y0, y0+dlat, y0+dlat]); ZN_NM.append('SalernTirr11') ; ZN_ID.append(30)\n",
    "\n",
    "\n",
    "lon1 = []\n",
    "lon2 = []\n",
    "lon3 = []\n",
    "lon4 = []\n",
    "lat1 = []\n",
    "lat2 = []\n",
    "lat3 = []\n",
    "lat4 = []\n",
    "lonC = []\n",
    "latC = [] \n",
    "zones_names = np.arange(0,len(DOM_X))\n",
    "for i in range(0,len(DOM_X)):\n",
    "    lon1.append(DOM_X[i][0])\n",
    "    lon2.append(DOM_X[i][1])\n",
    "    lon3.append(DOM_X[i][2])\n",
    "    lon4.append(DOM_X[i][3])\n",
    "    lat1.append(DOM_Y[i][0])\n",
    "    lat2.append(DOM_Y[i][1])\n",
    "    lat3.append(DOM_Y[i][2])\n",
    "    lat4.append(DOM_Y[i][3])\n",
    "    lonC.append(np.nanmean(DOM_X[i]))\n",
    "    latC.append(np.nanmean(DOM_Y[i]))\n",
    "lon1 = np.array(lon1)\n",
    "lon2 = np.array(lon2)\n",
    "lon3 = np.array(lon3)\n",
    "lon4 = np.array(lon4)\n",
    "lat1 = np.array(lat1)\n",
    "lat2 = np.array(lat2)\n",
    "lat3 = np.array(lat3)\n",
    "lat4 = np.array(lat4)\n",
    "lonC = np.array(lonC)\n",
    "latC = np.array(latC)\n",
    "\n",
    "pouieme = 1e-6\n",
    "lon11 = lon1 + pouieme\n",
    "lon22 = lon2 - pouieme\n",
    "lon33 = lon3 - pouieme\n",
    "lon44 = lon4 + pouieme\n",
    "\n",
    "lat11 = lat1 + pouieme\n",
    "lat22 = lat2 + pouieme\n",
    "lat33 = lat3 - pouieme\n",
    "lat44 = lat4 - pouieme\n",
    "\n",
    "lonCC = lonC\n",
    "latCC = latC\n",
    "\n",
    "\n",
    "print('ZONES DEFINED')"
   ]
  },
  {
   "cell_type": "code",
   "execution_count": 47,
   "id": "247b031d-9783-441f-9844-5521e32a2793",
   "metadata": {},
   "outputs": [
    {
     "name": "stdout",
     "output_type": "stream",
     "text": [
      "x0 = 13.5936 ; y0 = 41.2023 ; DOM_X.append([x0, x0+dlon, x0+dlon,x0]); DOM_Y.append([y0, y0, y0+dlat, y0+dlat])\n",
      "x0 = 13.6592 ; y0 = 41.1923 ; DOM_X.append([x0, x0+dlon, x0+dlon,x0]); DOM_Y.append([y0, y0, y0+dlat, y0+dlat])\n",
      "x0 = 13.7248 ; y0 = 41.16 ; DOM_X.append([x0, x0+dlon, x0+dlon,x0]); DOM_Y.append([y0, y0, y0+dlat, y0+dlat])\n",
      "x0 = 13.7904 ; y0 = 41.1069 ; DOM_X.append([x0, x0+dlon, x0+dlon,x0]); DOM_Y.append([y0, y0, y0+dlat, y0+dlat])\n",
      "x0 = 13.856 ; y0 = 41.0553 ; DOM_X.append([x0, x0+dlon, x0+dlon,x0]); DOM_Y.append([y0, y0, y0+dlat, y0+dlat])\n",
      "x0 = 13.853 ; y0 = 40.9897 ; DOM_X.append([x0, x0+dlon, x0+dlon,x0]); DOM_Y.append([y0, y0, y0+dlat, y0+dlat])\n",
      "x0 = 13.9195 ; y0 = 40.9584 ; DOM_X.append([x0, x0+dlon, x0+dlon,x0]); DOM_Y.append([y0, y0, y0+dlat, y0+dlat])\n",
      "x0 = 13.9498 ; y0 = 40.8928 ; DOM_X.append([x0, x0+dlon, x0+dlon,x0]); DOM_Y.append([y0, y0, y0+dlat, y0+dlat])\n",
      "x0 = 13.9971 ; y0 = 40.8272 ; DOM_X.append([x0, x0+dlon, x0+dlon,x0]); DOM_Y.append([y0, y0, y0+dlat, y0+dlat])\n",
      "x0 = 13.8832 ; y0 = 40.7416 ; DOM_X.append([x0, x0+dlon, x0+dlon,x0]); DOM_Y.append([y0, y0, y0+dlat, y0+dlat])\n",
      "x0 = 13.8176 ; y0 = 40.7416 ; DOM_X.append([x0, x0+dlon, x0+dlon,x0]); DOM_Y.append([y0, y0, y0+dlat, y0+dlat])\n",
      "x0 = 13.9498 ; y0 = 40.7516 ; DOM_X.append([x0, x0+dlon, x0+dlon,x0]); DOM_Y.append([y0, y0, y0+dlat, y0+dlat])\n",
      "x0 = 13.969 ; y0 = 40.682 ; DOM_X.append([x0, x0+dlon, x0+dlon,x0]); DOM_Y.append([y0, y0, y0+dlat, y0+dlat])\n",
      "x0 = 14.0346 ; y0 = 40.7487 ; DOM_X.append([x0, x0+dlon, x0+dlon,x0]); DOM_Y.append([y0, y0, y0+dlat, y0+dlat])\n",
      "x0 = 14.1002 ; y0 = 40.7774 ; DOM_X.append([x0, x0+dlon, x0+dlon,x0]); DOM_Y.append([y0, y0, y0+dlat, y0+dlat])\n",
      "x0 = 14.167 ; y0 = 40.755 ; DOM_X.append([x0, x0+dlon, x0+dlon,x0]); DOM_Y.append([y0, y0, y0+dlat, y0+dlat])\n",
      "x0 = 14.2356 ; y0 = 40.7569 ; DOM_X.append([x0, x0+dlon, x0+dlon,x0]); DOM_Y.append([y0, y0, y0+dlat, y0+dlat])\n",
      "x0 = 14.3313 ; y0 = 40.7442 ; DOM_X.append([x0, x0+dlon, x0+dlon,x0]); DOM_Y.append([y0, y0, y0+dlat, y0+dlat])\n",
      "x0 = 14.4213 ; y0 = 40.69 ; DOM_X.append([x0, x0+dlon, x0+dlon,x0]); DOM_Y.append([y0, y0, y0+dlat, y0+dlat])\n",
      "x0 = 14.3567 ; y0 = 40.6227 ; DOM_X.append([x0, x0+dlon, x0+dlon,x0]); DOM_Y.append([y0, y0, y0+dlat, y0+dlat])\n",
      "x0 = 14.2896 ; y0 = 40.5904 ; DOM_X.append([x0, x0+dlon, x0+dlon,x0]); DOM_Y.append([y0, y0, y0+dlat, y0+dlat])\n",
      "x0 = 14.1914 ; y0 = 40.5212 ; DOM_X.append([x0, x0+dlon, x0+dlon,x0]); DOM_Y.append([y0, y0, y0+dlat, y0+dlat])\n",
      "x0 = 14.11 ; y0 = 40.615 ; DOM_X.append([x0, x0+dlon, x0+dlon,x0]); DOM_Y.append([y0, y0, y0+dlat, y0+dlat])\n",
      "x0 = 14.261 ; y0 = 40.5212 ; DOM_X.append([x0, x0+dlon, x0+dlon,x0]); DOM_Y.append([y0, y0, y0+dlat, y0+dlat])\n",
      "x0 = 14.3366 ; y0 = 40.5223 ; DOM_X.append([x0, x0+dlon, x0+dlon,x0]); DOM_Y.append([y0, y0, y0+dlat, y0+dlat])\n",
      "x0 = 14.4022 ; y0 = 40.5546 ; DOM_X.append([x0, x0+dlon, x0+dlon,x0]); DOM_Y.append([y0, y0, y0+dlat, y0+dlat])\n",
      "x0 = 14.4678 ; y0 = 40.5896 ; DOM_X.append([x0, x0+dlon, x0+dlon,x0]); DOM_Y.append([y0, y0, y0+dlat, y0+dlat])\n",
      "x0 = 14.5334 ; y0 = 40.5796 ; DOM_X.append([x0, x0+dlon, x0+dlon,x0]); DOM_Y.append([y0, y0, y0+dlat, y0+dlat])\n",
      "x0 = 14.599 ; y0 = 40.6019 ; DOM_X.append([x0, x0+dlon, x0+dlon,x0]); DOM_Y.append([y0, y0, y0+dlat, y0+dlat])\n",
      "x0 = 14.6645 ; y0 = 40.6019 ; DOM_X.append([x0, x0+dlon, x0+dlon,x0]); DOM_Y.append([y0, y0, y0+dlat, y0+dlat])\n",
      "x0 = 14.7301 ; y0 = 40.6242 ; DOM_X.append([x0, x0+dlon, x0+dlon,x0]); DOM_Y.append([y0, y0, y0+dlat, y0+dlat])\n",
      "x0 = 14.8007 ; y0 = 40.5819 ; DOM_X.append([x0, x0+dlon, x0+dlon,x0]); DOM_Y.append([y0, y0, y0+dlat, y0+dlat])\n",
      "x0 = 14.8498 ; y0 = 40.5163 ; DOM_X.append([x0, x0+dlon, x0+dlon,x0]); DOM_Y.append([y0, y0, y0+dlat, y0+dlat])\n",
      "x0 = 14.8929 ; y0 = 40.4507 ; DOM_X.append([x0, x0+dlon, x0+dlon,x0]); DOM_Y.append([y0, y0, y0+dlat, y0+dlat])\n",
      "x0 = 14.9251 ; y0 = 40.3851 ; DOM_X.append([x0, x0+dlon, x0+dlon,x0]); DOM_Y.append([y0, y0, y0+dlat, y0+dlat])\n",
      "x0 = 14.9201 ; y0 = 40.3195 ; DOM_X.append([x0, x0+dlon, x0+dlon,x0]); DOM_Y.append([y0, y0, y0+dlat, y0+dlat])\n",
      "x0 = 14.8779 ; y0 = 40.2539 ; DOM_X.append([x0, x0+dlon, x0+dlon,x0]); DOM_Y.append([y0, y0, y0+dlat, y0+dlat])\n",
      "x0 = 13.525 ; y0 = 41.13 ; DOM_X.append([x0, x0+dlon, x0+dlon,x0]); DOM_Y.append([y0, y0, y0+dlat, y0+dlat])\n",
      "x0 = 13.5681 ; y0 = 41.0644 ; DOM_X.append([x0, x0+dlon, x0+dlon,x0]); DOM_Y.append([y0, y0, y0+dlat, y0+dlat])\n",
      "x0 = 13.6004 ; y0 = 40.9988 ; DOM_X.append([x0, x0+dlon, x0+dlon,x0]); DOM_Y.append([y0, y0, y0+dlat, y0+dlat])\n",
      "x0 = 13.6327 ; y0 = 40.9332 ; DOM_X.append([x0, x0+dlon, x0+dlon,x0]); DOM_Y.append([y0, y0, y0+dlat, y0+dlat])\n",
      "x0 = 13.6649 ; y0 = 40.8676 ; DOM_X.append([x0, x0+dlon, x0+dlon,x0]); DOM_Y.append([y0, y0, y0+dlat, y0+dlat])\n",
      "x0 = 13.6972 ; y0 = 40.802 ; DOM_X.append([x0, x0+dlon, x0+dlon,x0]); DOM_Y.append([y0, y0, y0+dlat, y0+dlat])\n",
      "x0 = 13.7295 ; y0 = 40.7365 ; DOM_X.append([x0, x0+dlon, x0+dlon,x0]); DOM_Y.append([y0, y0, y0+dlat, y0+dlat])\n",
      "x0 = 13.7699 ; y0 = 40.6709 ; DOM_X.append([x0, x0+dlon, x0+dlon,x0]); DOM_Y.append([y0, y0, y0+dlat, y0+dlat])\n",
      "x0 = 13.8355 ; y0 = 40.62 ; DOM_X.append([x0, x0+dlon, x0+dlon,x0]); DOM_Y.append([y0, y0, y0+dlat, y0+dlat])\n",
      "x0 = 13.9011 ; y0 = 40.5877 ; DOM_X.append([x0, x0+dlon, x0+dlon,x0]); DOM_Y.append([y0, y0, y0+dlat, y0+dlat])\n",
      "x0 = 13.9667 ; y0 = 40.5554 ; DOM_X.append([x0, x0+dlon, x0+dlon,x0]); DOM_Y.append([y0, y0, y0+dlat, y0+dlat])\n",
      "x0 = 14.0323 ; y0 = 40.5231 ; DOM_X.append([x0, x0+dlon, x0+dlon,x0]); DOM_Y.append([y0, y0, y0+dlat, y0+dlat])\n",
      "x0 = 14.0979 ; y0 = 40.4908 ; DOM_X.append([x0, x0+dlon, x0+dlon,x0]); DOM_Y.append([y0, y0, y0+dlat, y0+dlat])\n",
      "x0 = 14.1635 ; y0 = 40.4478 ; DOM_X.append([x0, x0+dlon, x0+dlon,x0]); DOM_Y.append([y0, y0, y0+dlat, y0+dlat])\n",
      "x0 = 14.229 ; y0 = 40.4155 ; DOM_X.append([x0, x0+dlon, x0+dlon,x0]); DOM_Y.append([y0, y0, y0+dlat, y0+dlat])\n",
      "x0 = 14.2946 ; y0 = 40.3832 ; DOM_X.append([x0, x0+dlon, x0+dlon,x0]); DOM_Y.append([y0, y0, y0+dlat, y0+dlat])\n",
      "x0 = 14.3602 ; y0 = 40.3509 ; DOM_X.append([x0, x0+dlon, x0+dlon,x0]); DOM_Y.append([y0, y0, y0+dlat, y0+dlat])\n",
      "x0 = 14.4258 ; y0 = 40.3186 ; DOM_X.append([x0, x0+dlon, x0+dlon,x0]); DOM_Y.append([y0, y0, y0+dlat, y0+dlat])\n",
      "x0 = 14.4914 ; y0 = 40.2863 ; DOM_X.append([x0, x0+dlon, x0+dlon,x0]); DOM_Y.append([y0, y0, y0+dlat, y0+dlat])\n",
      "x0 = 14.557 ; y0 = 40.254 ; DOM_X.append([x0, x0+dlon, x0+dlon,x0]); DOM_Y.append([y0, y0, y0+dlat, y0+dlat])\n",
      "x0 = 14.6226 ; y0 = 40.2325 ; DOM_X.append([x0, x0+dlon, x0+dlon,x0]); DOM_Y.append([y0, y0, y0+dlat, y0+dlat])\n",
      "x0 = 14.6882 ; y0 = 40.2109 ; DOM_X.append([x0, x0+dlon, x0+dlon,x0]); DOM_Y.append([y0, y0, y0+dlat, y0+dlat])\n",
      "x0 = 14.7538 ; y0 = 40.1894 ; DOM_X.append([x0, x0+dlon, x0+dlon,x0]); DOM_Y.append([y0, y0, y0+dlat, y0+dlat])\n",
      "x0 = 14.8194 ; y0 = 40.1732 ; DOM_X.append([x0, x0+dlon, x0+dlon,x0]); DOM_Y.append([y0, y0, y0+dlat, y0+dlat])\n"
     ]
    }
   ],
   "source": [
    "stn = 'DOM_X.append([x0, x0+dlon, x0+dlon,x0]); DOM_Y.append([y0, y0, y0+dlat, y0+dlat])'\n",
    "for i in range(0,len(DOM_X)):\n",
    "    toto = 'x0 = ' + str(np.round(np.nanmean(DOM_X[i])-dlon/2,4)) +' ; y0 = ' +str(np.round(np.nanmean(DOM_Y[i])-dlat/2,4)) + ' ; ' + stn\n",
    "    #XY.append\n",
    "    print(toto)"
   ]
  },
  {
   "cell_type": "code",
   "execution_count": 48,
   "id": "205e63b2-7cda-4a56-9ff3-da458b5280ca",
   "metadata": {},
   "outputs": [
    {
     "name": "stdout",
     "output_type": "stream",
     "text": [
      "0.06458950000000208\n",
      "0.06458950000000385\n",
      "7.182034634743916 km\n",
      "6.961049940244936 km\n",
      "49.9945017650212 km²\n",
      "Nx:    14   points\n",
      "Ny:    13   points\n",
      "NxNy:  182  points\n"
     ]
    }
   ],
   "source": [
    "# verif\n",
    "\n",
    "dlon = lon22[1]-lon11[1]\n",
    "dlat = lat33[1]-lat22[1]\n",
    "print(dlon)\n",
    "print(dlat)\n",
    "x0 = 14.25\n",
    "y0 = 40.80\n",
    "\n",
    "loc1 = (x0,y0)\n",
    "loc2 = (x0+dlon,y0)\n",
    "dx = hs.haversine(loc1,loc2)\n",
    "print(dx,'km')\n",
    "\n",
    "loc1 = (x0,y0)\n",
    "loc2 = (x0,y0+dlat)\n",
    "dy = hs.haversine(loc1,loc2)\n",
    "print(dy,'km')\n",
    "\n",
    "ds = dx*dy\n",
    "print(ds,'km²')\n",
    "\n",
    "Nx = int(np.floor(dx/0.5))\n",
    "Ny = int(np.floor(dy/0.5))\n",
    "\n",
    "print('Nx:   ',Nx,'  points')\n",
    "print('Ny:   ',Ny,'  points')\n",
    "print('NxNy: ',Nx*Ny,' points')"
   ]
  },
  {
   "cell_type": "code",
   "execution_count": 51,
   "id": "a381fe78-67bd-4b1f-94d2-50cfdcdc2d08",
   "metadata": {},
   "outputs": [],
   "source": [
    "S = pd.DataFrame() \n",
    "S['zone names'] = ZN_NM\n",
    "S['zone id'] = ZN_ID\n",
    "S['lon C'] = lonCC\n",
    "S['lat C'] = latCC\n",
    "S['lon 1'] = lon11\n",
    "S['lat 1'] = lat11\n",
    "S['lon 2'] = lon22\n",
    "S['lat 2'] = lat22\n",
    "S['lon 3'] = lon33\n",
    "S['lat 3'] = lat33\n",
    "S['lon 4'] = lon44\n",
    "S['lat 4'] = lat44\n",
    "\n",
    "S.to_csv(dir_out+'out/S.csv', index = False)\n",
    "S.iloc[:,4:].to_csv(dir_out+'out/dati_zone_S.dat', header = False, index = False, sep='\\t')\n",
    "\n"
   ]
  },
  {
   "cell_type": "code",
   "execution_count": 52,
   "id": "472055d6-b4f3-41d5-a329-6c68d7145161",
   "metadata": {},
   "outputs": [
    {
     "data": {
      "text/html": [
       "<div>\n",
       "<style scoped>\n",
       "    .dataframe tbody tr th:only-of-type {\n",
       "        vertical-align: middle;\n",
       "    }\n",
       "\n",
       "    .dataframe tbody tr th {\n",
       "        vertical-align: top;\n",
       "    }\n",
       "\n",
       "    .dataframe thead th {\n",
       "        text-align: right;\n",
       "    }\n",
       "</style>\n",
       "<table border=\"1\" class=\"dataframe\">\n",
       "  <thead>\n",
       "    <tr style=\"text-align: right;\">\n",
       "      <th></th>\n",
       "      <th>zone names</th>\n",
       "      <th>zone id</th>\n",
       "      <th>lon C</th>\n",
       "      <th>lat C</th>\n",
       "      <th>lon 1</th>\n",
       "      <th>lat 1</th>\n",
       "      <th>lon 2</th>\n",
       "      <th>lat 2</th>\n",
       "      <th>lon 3</th>\n",
       "      <th>lat 3</th>\n",
       "      <th>lon 4</th>\n",
       "      <th>lat 4</th>\n",
       "    </tr>\n",
       "  </thead>\n",
       "  <tbody>\n",
       "    <tr>\n",
       "      <th>0</th>\n",
       "      <td>Formia</td>\n",
       "      <td>1</td>\n",
       "      <td>13.625896</td>\n",
       "      <td>41.234596</td>\n",
       "      <td>13.593601</td>\n",
       "      <td>41.202301</td>\n",
       "      <td>13.658191</td>\n",
       "      <td>41.202301</td>\n",
       "      <td>13.658191</td>\n",
       "      <td>41.266891</td>\n",
       "      <td>13.593601</td>\n",
       "      <td>41.266891</td>\n",
       "    </tr>\n",
       "    <tr>\n",
       "      <th>1</th>\n",
       "      <td>Minturno</td>\n",
       "      <td>1</td>\n",
       "      <td>13.691496</td>\n",
       "      <td>41.224596</td>\n",
       "      <td>13.659201</td>\n",
       "      <td>41.192301</td>\n",
       "      <td>13.723791</td>\n",
       "      <td>41.192301</td>\n",
       "      <td>13.723791</td>\n",
       "      <td>41.256890</td>\n",
       "      <td>13.659201</td>\n",
       "      <td>41.256890</td>\n",
       "    </tr>\n",
       "    <tr>\n",
       "      <th>2</th>\n",
       "      <td>Cellole</td>\n",
       "      <td>1</td>\n",
       "      <td>13.757096</td>\n",
       "      <td>41.192296</td>\n",
       "      <td>13.724801</td>\n",
       "      <td>41.160001</td>\n",
       "      <td>13.789391</td>\n",
       "      <td>41.160001</td>\n",
       "      <td>13.789391</td>\n",
       "      <td>41.224590</td>\n",
       "      <td>13.724801</td>\n",
       "      <td>41.224590</td>\n",
       "    </tr>\n",
       "    <tr>\n",
       "      <th>3</th>\n",
       "      <td>Dominzia</td>\n",
       "      <td>1</td>\n",
       "      <td>13.822696</td>\n",
       "      <td>41.139196</td>\n",
       "      <td>13.790401</td>\n",
       "      <td>41.106901</td>\n",
       "      <td>13.854991</td>\n",
       "      <td>41.106901</td>\n",
       "      <td>13.854991</td>\n",
       "      <td>41.171491</td>\n",
       "      <td>13.790401</td>\n",
       "      <td>41.171491</td>\n",
       "    </tr>\n",
       "    <tr>\n",
       "      <th>4</th>\n",
       "      <td>Mondragrone</td>\n",
       "      <td>1</td>\n",
       "      <td>13.888296</td>\n",
       "      <td>41.087596</td>\n",
       "      <td>13.856001</td>\n",
       "      <td>41.055301</td>\n",
       "      <td>13.920591</td>\n",
       "      <td>41.055301</td>\n",
       "      <td>13.920591</td>\n",
       "      <td>41.119891</td>\n",
       "      <td>13.856001</td>\n",
       "      <td>41.119891</td>\n",
       "    </tr>\n",
       "    <tr>\n",
       "      <th>...</th>\n",
       "      <td>...</td>\n",
       "      <td>...</td>\n",
       "      <td>...</td>\n",
       "      <td>...</td>\n",
       "      <td>...</td>\n",
       "      <td>...</td>\n",
       "      <td>...</td>\n",
       "      <td>...</td>\n",
       "      <td>...</td>\n",
       "      <td>...</td>\n",
       "      <td>...</td>\n",
       "      <td>...</td>\n",
       "    </tr>\n",
       "    <tr>\n",
       "      <th>56</th>\n",
       "      <td>SalerTirr7</td>\n",
       "      <td>30</td>\n",
       "      <td>14.589303</td>\n",
       "      <td>40.286277</td>\n",
       "      <td>14.557008</td>\n",
       "      <td>40.253982</td>\n",
       "      <td>14.621598</td>\n",
       "      <td>40.253982</td>\n",
       "      <td>14.621598</td>\n",
       "      <td>40.318572</td>\n",
       "      <td>14.557008</td>\n",
       "      <td>40.318572</td>\n",
       "    </tr>\n",
       "    <tr>\n",
       "      <th>57</th>\n",
       "      <td>SalerTirr8</td>\n",
       "      <td>30</td>\n",
       "      <td>14.654895</td>\n",
       "      <td>40.264747</td>\n",
       "      <td>14.622600</td>\n",
       "      <td>40.232452</td>\n",
       "      <td>14.687189</td>\n",
       "      <td>40.232452</td>\n",
       "      <td>14.687189</td>\n",
       "      <td>40.297041</td>\n",
       "      <td>14.622600</td>\n",
       "      <td>40.297041</td>\n",
       "    </tr>\n",
       "    <tr>\n",
       "      <th>58</th>\n",
       "      <td>SalerTirr9</td>\n",
       "      <td>30</td>\n",
       "      <td>14.720486</td>\n",
       "      <td>40.243216</td>\n",
       "      <td>14.688191</td>\n",
       "      <td>40.210921</td>\n",
       "      <td>14.752781</td>\n",
       "      <td>40.210921</td>\n",
       "      <td>14.752781</td>\n",
       "      <td>40.275511</td>\n",
       "      <td>14.688191</td>\n",
       "      <td>40.275511</td>\n",
       "    </tr>\n",
       "    <tr>\n",
       "      <th>59</th>\n",
       "      <td>SalerTirr10</td>\n",
       "      <td>30</td>\n",
       "      <td>14.786078</td>\n",
       "      <td>40.221686</td>\n",
       "      <td>14.753783</td>\n",
       "      <td>40.189391</td>\n",
       "      <td>14.818372</td>\n",
       "      <td>40.189391</td>\n",
       "      <td>14.818372</td>\n",
       "      <td>40.253980</td>\n",
       "      <td>14.753783</td>\n",
       "      <td>40.253980</td>\n",
       "    </tr>\n",
       "    <tr>\n",
       "      <th>60</th>\n",
       "      <td>SalernTirr11</td>\n",
       "      <td>30</td>\n",
       "      <td>14.851669</td>\n",
       "      <td>40.205538</td>\n",
       "      <td>14.819374</td>\n",
       "      <td>40.173243</td>\n",
       "      <td>14.883964</td>\n",
       "      <td>40.173243</td>\n",
       "      <td>14.883964</td>\n",
       "      <td>40.237833</td>\n",
       "      <td>14.819374</td>\n",
       "      <td>40.237833</td>\n",
       "    </tr>\n",
       "  </tbody>\n",
       "</table>\n",
       "<p>61 rows × 12 columns</p>\n",
       "</div>"
      ],
      "text/plain": [
       "      zone names  zone id      lon C      lat C      lon 1      lat 1  \\\n",
       "0         Formia        1  13.625896  41.234596  13.593601  41.202301   \n",
       "1       Minturno        1  13.691496  41.224596  13.659201  41.192301   \n",
       "2        Cellole        1  13.757096  41.192296  13.724801  41.160001   \n",
       "3       Dominzia        1  13.822696  41.139196  13.790401  41.106901   \n",
       "4    Mondragrone        1  13.888296  41.087596  13.856001  41.055301   \n",
       "..           ...      ...        ...        ...        ...        ...   \n",
       "56    SalerTirr7       30  14.589303  40.286277  14.557008  40.253982   \n",
       "57    SalerTirr8       30  14.654895  40.264747  14.622600  40.232452   \n",
       "58    SalerTirr9       30  14.720486  40.243216  14.688191  40.210921   \n",
       "59   SalerTirr10       30  14.786078  40.221686  14.753783  40.189391   \n",
       "60  SalernTirr11       30  14.851669  40.205538  14.819374  40.173243   \n",
       "\n",
       "        lon 2      lat 2      lon 3      lat 3      lon 4      lat 4  \n",
       "0   13.658191  41.202301  13.658191  41.266891  13.593601  41.266891  \n",
       "1   13.723791  41.192301  13.723791  41.256890  13.659201  41.256890  \n",
       "2   13.789391  41.160001  13.789391  41.224590  13.724801  41.224590  \n",
       "3   13.854991  41.106901  13.854991  41.171491  13.790401  41.171491  \n",
       "4   13.920591  41.055301  13.920591  41.119891  13.856001  41.119891  \n",
       "..        ...        ...        ...        ...        ...        ...  \n",
       "56  14.621598  40.253982  14.621598  40.318572  14.557008  40.318572  \n",
       "57  14.687189  40.232452  14.687189  40.297041  14.622600  40.297041  \n",
       "58  14.752781  40.210921  14.752781  40.275511  14.688191  40.275511  \n",
       "59  14.818372  40.189391  14.818372  40.253980  14.753783  40.253980  \n",
       "60  14.883964  40.173243  14.883964  40.237833  14.819374  40.237833  \n",
       "\n",
       "[61 rows x 12 columns]"
      ]
     },
     "execution_count": 52,
     "metadata": {},
     "output_type": "execute_result"
    }
   ],
   "source": [
    "S"
   ]
  },
  {
   "cell_type": "code",
   "execution_count": 53,
   "id": "c3322742-babb-41d7-8a48-e21e80f472ef",
   "metadata": {},
   "outputs": [
    {
     "data": {
      "text/html": [
       "<div>\n",
       "<style scoped>\n",
       "    .dataframe tbody tr th:only-of-type {\n",
       "        vertical-align: middle;\n",
       "    }\n",
       "\n",
       "    .dataframe tbody tr th {\n",
       "        vertical-align: top;\n",
       "    }\n",
       "\n",
       "    .dataframe thead th {\n",
       "        text-align: right;\n",
       "    }\n",
       "</style>\n",
       "<table border=\"1\" class=\"dataframe\">\n",
       "  <thead>\n",
       "    <tr style=\"text-align: right;\">\n",
       "      <th></th>\n",
       "      <th>lon 1</th>\n",
       "      <th>lat 1</th>\n",
       "      <th>lon 2</th>\n",
       "      <th>lat 2</th>\n",
       "      <th>lon 3</th>\n",
       "      <th>lat 3</th>\n",
       "      <th>lon 4</th>\n",
       "      <th>lat 4</th>\n",
       "    </tr>\n",
       "  </thead>\n",
       "  <tbody>\n",
       "    <tr>\n",
       "      <th>0</th>\n",
       "      <td>13.593601</td>\n",
       "      <td>41.202301</td>\n",
       "      <td>13.658191</td>\n",
       "      <td>41.202301</td>\n",
       "      <td>13.658191</td>\n",
       "      <td>41.266891</td>\n",
       "      <td>13.593601</td>\n",
       "      <td>41.266891</td>\n",
       "    </tr>\n",
       "    <tr>\n",
       "      <th>1</th>\n",
       "      <td>13.659201</td>\n",
       "      <td>41.192301</td>\n",
       "      <td>13.723791</td>\n",
       "      <td>41.192301</td>\n",
       "      <td>13.723791</td>\n",
       "      <td>41.256890</td>\n",
       "      <td>13.659201</td>\n",
       "      <td>41.256890</td>\n",
       "    </tr>\n",
       "    <tr>\n",
       "      <th>2</th>\n",
       "      <td>13.724801</td>\n",
       "      <td>41.160001</td>\n",
       "      <td>13.789391</td>\n",
       "      <td>41.160001</td>\n",
       "      <td>13.789391</td>\n",
       "      <td>41.224590</td>\n",
       "      <td>13.724801</td>\n",
       "      <td>41.224590</td>\n",
       "    </tr>\n",
       "    <tr>\n",
       "      <th>3</th>\n",
       "      <td>13.790401</td>\n",
       "      <td>41.106901</td>\n",
       "      <td>13.854991</td>\n",
       "      <td>41.106901</td>\n",
       "      <td>13.854991</td>\n",
       "      <td>41.171491</td>\n",
       "      <td>13.790401</td>\n",
       "      <td>41.171491</td>\n",
       "    </tr>\n",
       "    <tr>\n",
       "      <th>4</th>\n",
       "      <td>13.856001</td>\n",
       "      <td>41.055301</td>\n",
       "      <td>13.920591</td>\n",
       "      <td>41.055301</td>\n",
       "      <td>13.920591</td>\n",
       "      <td>41.119891</td>\n",
       "      <td>13.856001</td>\n",
       "      <td>41.119891</td>\n",
       "    </tr>\n",
       "    <tr>\n",
       "      <th>...</th>\n",
       "      <td>...</td>\n",
       "      <td>...</td>\n",
       "      <td>...</td>\n",
       "      <td>...</td>\n",
       "      <td>...</td>\n",
       "      <td>...</td>\n",
       "      <td>...</td>\n",
       "      <td>...</td>\n",
       "    </tr>\n",
       "    <tr>\n",
       "      <th>56</th>\n",
       "      <td>14.557008</td>\n",
       "      <td>40.253982</td>\n",
       "      <td>14.621598</td>\n",
       "      <td>40.253982</td>\n",
       "      <td>14.621598</td>\n",
       "      <td>40.318572</td>\n",
       "      <td>14.557008</td>\n",
       "      <td>40.318572</td>\n",
       "    </tr>\n",
       "    <tr>\n",
       "      <th>57</th>\n",
       "      <td>14.622600</td>\n",
       "      <td>40.232452</td>\n",
       "      <td>14.687189</td>\n",
       "      <td>40.232452</td>\n",
       "      <td>14.687189</td>\n",
       "      <td>40.297041</td>\n",
       "      <td>14.622600</td>\n",
       "      <td>40.297041</td>\n",
       "    </tr>\n",
       "    <tr>\n",
       "      <th>58</th>\n",
       "      <td>14.688191</td>\n",
       "      <td>40.210921</td>\n",
       "      <td>14.752781</td>\n",
       "      <td>40.210921</td>\n",
       "      <td>14.752781</td>\n",
       "      <td>40.275511</td>\n",
       "      <td>14.688191</td>\n",
       "      <td>40.275511</td>\n",
       "    </tr>\n",
       "    <tr>\n",
       "      <th>59</th>\n",
       "      <td>14.753783</td>\n",
       "      <td>40.189391</td>\n",
       "      <td>14.818372</td>\n",
       "      <td>40.189391</td>\n",
       "      <td>14.818372</td>\n",
       "      <td>40.253980</td>\n",
       "      <td>14.753783</td>\n",
       "      <td>40.253980</td>\n",
       "    </tr>\n",
       "    <tr>\n",
       "      <th>60</th>\n",
       "      <td>14.819374</td>\n",
       "      <td>40.173243</td>\n",
       "      <td>14.883964</td>\n",
       "      <td>40.173243</td>\n",
       "      <td>14.883964</td>\n",
       "      <td>40.237833</td>\n",
       "      <td>14.819374</td>\n",
       "      <td>40.237833</td>\n",
       "    </tr>\n",
       "  </tbody>\n",
       "</table>\n",
       "<p>61 rows × 8 columns</p>\n",
       "</div>"
      ],
      "text/plain": [
       "        lon 1      lat 1      lon 2      lat 2      lon 3      lat 3  \\\n",
       "0   13.593601  41.202301  13.658191  41.202301  13.658191  41.266891   \n",
       "1   13.659201  41.192301  13.723791  41.192301  13.723791  41.256890   \n",
       "2   13.724801  41.160001  13.789391  41.160001  13.789391  41.224590   \n",
       "3   13.790401  41.106901  13.854991  41.106901  13.854991  41.171491   \n",
       "4   13.856001  41.055301  13.920591  41.055301  13.920591  41.119891   \n",
       "..        ...        ...        ...        ...        ...        ...   \n",
       "56  14.557008  40.253982  14.621598  40.253982  14.621598  40.318572   \n",
       "57  14.622600  40.232452  14.687189  40.232452  14.687189  40.297041   \n",
       "58  14.688191  40.210921  14.752781  40.210921  14.752781  40.275511   \n",
       "59  14.753783  40.189391  14.818372  40.189391  14.818372  40.253980   \n",
       "60  14.819374  40.173243  14.883964  40.173243  14.883964  40.237833   \n",
       "\n",
       "        lon 4      lat 4  \n",
       "0   13.593601  41.266891  \n",
       "1   13.659201  41.256890  \n",
       "2   13.724801  41.224590  \n",
       "3   13.790401  41.171491  \n",
       "4   13.856001  41.119891  \n",
       "..        ...        ...  \n",
       "56  14.557008  40.318572  \n",
       "57  14.622600  40.297041  \n",
       "58  14.688191  40.275511  \n",
       "59  14.753783  40.253980  \n",
       "60  14.819374  40.237833  \n",
       "\n",
       "[61 rows x 8 columns]"
      ]
     },
     "execution_count": 53,
     "metadata": {},
     "output_type": "execute_result"
    }
   ],
   "source": [
    "S.iloc[:,4:]"
   ]
  },
  {
   "cell_type": "code",
   "execution_count": 60,
   "id": "abc85f02-0a82-42fc-9eef-7e63e6cb234d",
   "metadata": {},
   "outputs": [
    {
     "data": {
      "image/png": "[encoded data removed]",
      "text/plain": [
       "<Figure size 864x720 with 1 Axes>"
      ]
     },
     "metadata": {
      "needs_background": "light"
     },
     "output_type": "display_data"
    }
   ],
   "source": [
    "fig, ax = plt.subplots(1, 1,figsize=(12,10))\n",
    "ax.set_xlim([13.25,15.20])\n",
    "ax.set_ylim([40.15,41.35])\n",
    "ax.set_xlabel('Longitude $(decimal \\degree)$', fontsize=18)\n",
    "ax.set_ylabel('Latitude $(decimal \\degree)$', fontsize=18)\n",
    "\n",
    "ax.plot(TCOAST_lon,TCOAST_lat,'k-',lw=2)\n",
    "for i in range(0,len(DOM_X)):\n",
    "    if (ZN_ID[i] == 1) | (ZN_ID[i] == 100) :\n",
    "        clr_tempo = '#fca128'\n",
    "    elif (ZN_ID[i] == 2) | (ZN_ID[i] == 200):\n",
    "        clr_tempo = '#2fde86'\n",
    "    elif (ZN_ID[i] == 3) | (ZN_ID[i] == 300):\n",
    "        clr_tempo = '#fff263'\n",
    "        \n",
    "    elif (ZN_ID[i] == 12)  :\n",
    "        clr_tempo = 'r'\n",
    "    elif  ( ZN_ID[i] == 23 ) :\n",
    "        clr_tempo = 'm'\n",
    "        \n",
    "    elif (ZN_ID[i] == 10)  :\n",
    "        clr_tempo = '#1f9aff'\n",
    "    elif (ZN_ID[i] == 20)  :\n",
    "        clr_tempo = '#135e9c'\n",
    "    elif ( ZN_ID[i] == 30 ) :\n",
    "        clr_tempo = '#0a2236'\n",
    "    \n",
    "    ax.fill([S['lon 1'][i],S['lon 2'][i],S['lon 3'][i],S['lon 4'][i]], [S['lat 1'][i],S['lat 2'][i],S['lat 3'][i],S['lat 4'][i]],color= clr_tempo,alpha=.5)   \n",
    "    ax.text(lonC[i]-dlon/3, latC[i]-dlat/6,str(i+0),color='k',fontsize=10,fontweight='bold')\n",
    "    \n",
    "    lon1 = S['lon 1'][i]\n",
    "    lon2 = S['lon 2'][i]\n",
    "    lon3 = S['lon 3'][i]\n",
    "    lon4 = S['lon 4'][i]\n",
    "    lat1 = S['lat 1'][i]\n",
    "    lat2 = S['lat 2'][i]\n",
    "    lat3 = S['lat 3'][i]\n",
    "    lat4 = S['lat 4'][i]\n",
    "    \n",
    "    ax.plot([lon1,lon2],[lat1,lat2],'k-',lw=0.15)\n",
    "    ax.plot([lon1,lon2],[lat3,lat4],'k-',lw=0.15)\n",
    "    ax.plot([lon1,lon1],[lat1,lat4],'k-',lw=0.15)\n",
    "    ax.plot([lon2,lon2],[lat2,lat3],'k-',lw=0.15)\n",
    "    \n",
    "ax.plot(13.9175+dlon/4,40.9584+dlat,'o',color='#22a7d4',markersize=16,markeredgecolor='k',lw=3)\n",
    "ax.plot(14.4013+1.25*dlon,40.685+dlat/1.5,'o',color='#22a7d4',markersize=16,markeredgecolor='k',lw=3)\n",
    "ax.plot(14.8729+1.25*dlon,40.4527+dlat/1.5,'o',color='#22a7d4',markersize=16,markeredgecolor='k',lw=3)\n",
    "\n",
    "ax.plot(14.25,40.80,'+',color='m',markersize=14)\n",
    "\n",
    "ax.grid(alpha=.25)\n",
    "\n",
    "fig_filename = 'areas_for_connectivity_S'\n",
    "fig.savefig(dir_out+'plots/' + fig_filename + '.pdf')\n",
    "fig.savefig(dir_out+'plots/' + fig_filename + '.png', dpi=600)"
   ]
  },
  {
   "cell_type": "markdown",
   "id": "249ce99f-9c40-4b2f-b57b-5c5c57e7f93a",
   "metadata": {
    "jp-MarkdownHeadingCollapsed": true,
    "tags": []
   },
   "source": [
    "# Declaration"
   ]
  },
  {
   "cell_type": "code",
   "execution_count": 61,
   "id": "53e44202-e17c-4f18-abde-a8271e900671",
   "metadata": {},
   "outputs": [],
   "source": [
    "clr_gox = '#ffdd33'\n",
    "clr_tra = '#ff9b4a'\n",
    "clr_fiu = '#00a85d'\n",
    "clr_por = '#965000'\n",
    "clr_iso = '#83f0f7'\n",
    "clr_cos = '#36b3b3'\n",
    "clr_zones = [clr_gox,clr_tra,clr_fiu,clr_por,clr_iso,clr_cos]"
   ]
  },
  {
   "cell_type": "markdown",
   "id": "dc252d2f-d27f-4aad-8c72-ddd10679427e",
   "metadata": {
    "jp-MarkdownHeadingCollapsed": true,
    "tags": []
   },
   "source": [
    "# Functions"
   ]
  },
  {
   "cell_type": "code",
   "execution_count": 70,
   "id": "5fb610d7-a20a-4487-b4e9-aa017d558d77",
   "metadata": {},
   "outputs": [],
   "source": [
    "def sum_matrice_conn(xxxx,mmy):\n",
    "    \n",
    "    # \n",
    "    xx_00 = np.zeros((xxxx.shape[2],xxxx.shape[3]))\n",
    "    xx_01 = np.zeros((xxxx.shape[2],xxxx.shape[3]))\n",
    "    xx_02 = np.zeros((xxxx.shape[2],xxxx.shape[3]))\n",
    "    xx_03 = np.zeros((xxxx.shape[2],xxxx.shape[3]))\n",
    "    xx_04 = np.zeros((xxxx.shape[2],xxxx.shape[3]))\n",
    "    \n",
    "    # \n",
    "    xx_00_metric2 = np.zeros((xxxx.shape[2],xxxx.shape[3]))\n",
    "    xx_01_metric2 = np.zeros((xxxx.shape[2],xxxx.shape[3]))\n",
    "    xx_02_metric2 = np.zeros((xxxx.shape[2],xxxx.shape[3]))\n",
    "    xx_03_metric2 = np.zeros((xxxx.shape[2],xxxx.shape[3]))\n",
    "    xx_04_metric2 = np.zeros((xxxx.shape[2],xxxx.shape[3]))\n",
    "    \n",
    "    \n",
    "    \n",
    "    \n",
    "    #-------------------\n",
    "    mask_01 = xxxx*np.nan\n",
    "    mask_02 = xxxx*np.nan\n",
    "    mask_03 = xxxx*np.nan\n",
    "    mask_04 = xxxx*np.nan\n",
    "    f01 = np.where((mmy<=2) | (mmy == 12))[0]\n",
    "    f02 = np.where((mmy>=3) & (mmy <= 5 ))[0]\n",
    "    f03 = np.where((mmy>=6) & (mmy <= 8 ))[0]\n",
    "    f04 = np.where((mmy>=9) & (mmy <= 11 ))[0]\n",
    "    #\n",
    "    mask_01[:,f01,:,:] = 1\n",
    "    mask_02[:,f02,:,:] = 1\n",
    "    mask_03[:,f03,:,:] = 1\n",
    "    mask_04[:,f04,:,:] = 1\n",
    "    \n",
    "    \n",
    "    \n",
    "    for i in range(0,xxxx.shape[2]):\n",
    "        for j in range(0,xxxx.shape[2]):\n",
    "            xx_00[i,j] = np.nanmean(xxxx[:,:,i,j])\n",
    "            xx_01[i,j] = np.nanmean(xxxx[:,:,i,j]*mask_01[:,:,i,j])\n",
    "            xx_02[i,j] = np.nanmean(xxxx[:,:,i,j]*mask_02[:,:,i,j])\n",
    "            xx_03[i,j] = np.nanmean(xxxx[:,:,i,j]*mask_03[:,:,i,j])\n",
    "            xx_04[i,j] = np.nanmean(xxxx[:,:,i,j]*mask_04[:,:,i,j])\n",
    "            \n",
    "            xx_00_metric2[i,j] = np.nanmax(xxxx[:,:,i,j])\n",
    "            xx_01_metric2[i,j] = np.nanmax(xxxx[:,:,i,j]*mask_01[:,:,i,j])\n",
    "            xx_02_metric2[i,j] = np.nanmax(xxxx[:,:,i,j]*mask_02[:,:,i,j])\n",
    "            xx_03_metric2[i,j] = np.nanmax(xxxx[:,:,i,j]*mask_03[:,:,i,j])\n",
    "            xx_04_metric2[i,j] = np.nanmax(xxxx[:,:,i,j]*mask_04[:,:,i,j])\n",
    "    \n",
    "    AUTOMASK = 0\n",
    "    if AUTOMASK == 1:\n",
    "        for i in range(0,xxxx.shape[2]):\n",
    "\n",
    "                xx_00_metric2[i,i] = np.nan\n",
    "                xx_01_metric2[i,i] = np.nan\n",
    "                xx_02_metric2[i,i] = np.nan\n",
    "                xx_03_metric2[i,i] = np.nan\n",
    "                xx_04_metric2[i,i] = np.nan\n",
    "\n",
    "                xx_00[i,i] = np.nan\n",
    "                xx_01[i,i] = np.nan\n",
    "                xx_02[i,i] = np.nan\n",
    "                xx_03[i,i] = np.nan\n",
    "                xx_04[i,i] = np.nan\n",
    "            \n",
    "    lf01 = len(f01)\n",
    "    lf02 = len(f02)\n",
    "    lf03 = len(f03)\n",
    "    lf04 = len(f04)\n",
    "    \n",
    "    return xx_00, xx_01, xx_02, xx_03, xx_04, xx_00_metric2, xx_01_metric2, xx_02_metric2, xx_03_metric2, xx_04_metric2, lf01,lf02,lf03,lf04"
   ]
  },
  {
   "cell_type": "code",
   "execution_count": 71,
   "id": "e2ee288f-ea0f-4cec-8e7d-2a874a23a378",
   "metadata": {},
   "outputs": [],
   "source": [
    "def sum_matrice_conn_MACRO(xxxx,imacro):\n",
    "    \n",
    "    # reduced matrix, by groupes of unique values in imacro\n",
    "    unique_values =np.unique(imacro)\n",
    "    xxxx_macro = np.zeros((xxxx.shape[0],xxxx.shape[1],len(unique_values),len(unique_values)))\n",
    "    for i in range(0,xxxx.shape[0]):\n",
    "        for j in range(0,xxxx.shape[1]):\n",
    "            for p in range(0,len(unique_values)) :\n",
    "                fp = np.where(imacro == unique_values[p])[0]\n",
    "                for a in range(0,len(unique_values)):\n",
    "                    fa = np.where(imacro == unique_values[a])[0]\n",
    "                    subxxxx = xxxx[i,j,fp,:][:,fa]\n",
    "                    xxxx_macro[i,j,p-1,a-1] = np.nansum(subxxxx.flatten())\n",
    "    return xxxx_macro\n",
    "    "
   ]
  },
  {
   "cell_type": "code",
   "execution_count": 72,
   "id": "e545d3bb-be80-47e6-aa30-1fe0025883f2",
   "metadata": {},
   "outputs": [],
   "source": [
    "def sum_matrice_conn_PERIO(xxxx,yea,doy,yyyy,doy1,doy2):\n",
    "\n",
    "    # \n",
    "    xx = np.zeros((xxxx.shape[2],xxxx.shape[3]))\n",
    "    xx_metric2 = np.zeros((xxxx.shape[2],xxxx.shape[3]))\n",
    "    \n",
    "    fy = np.where(yea == yyyy)[0]\n",
    "    fd = np.where((doy >= doy1) & (doy <= doy2))[0]\n",
    "    \n",
    "    for i in range(0,xxxx.shape[2]):\n",
    "        for j in range(0,xxxx.shape[2]):\n",
    "            xx[i,j] = np.nanmean(xxxx[fy,fd,i,j])            \n",
    "            xx_metric2[i,j] = np.nanmax(xxxx[fy,fd,i,j])\n",
    "\n",
    "    \n",
    "    AUTOMASK = 0\n",
    "    if AUTOMASK == 1:\n",
    "        for i in range(0,xxxx.shape[2]):\n",
    "\n",
    "                xx_metric2[i,i] = np.nan\n",
    "                xx[i,i] = np.nan\n",
    "        \n",
    "    return xx, xx_metric2"
   ]
  },
  {
   "cell_type": "markdown",
   "id": "24e723fe-f7c1-4d59-98ac-6795a26c608b",
   "metadata": {
    "tags": []
   },
   "source": [
    "# Load data"
   ]
  },
  {
   "cell_type": "code",
   "execution_count": 118,
   "id": "da7c4e22-c6ef-4644-8f2b-7fb58cd748dc",
   "metadata": {},
   "outputs": [
    {
     "name": "stdout",
     "output_type": "stream",
     "text": [
      "matCon_B_96.nc\n"
     ]
    },
    {
     "name": "stderr",
     "output_type": "stream",
     "text": [
      "<ipython-input-118-481d0ef7b5c1>:14: DeprecationWarning: `np.bool` is a deprecated alias for the builtin `bool`. To silence this warning, use `bool` by itself. Doing this will not modify any behavior and is safe. If you specifically wanted the numpy scalar type, use `np.bool_` here.\n",
      "Deprecated in NumPy 1.20; for more details and guidance: https://numpy.org/devdocs/release/1.20.0-notes.html#deprecations\n",
      "  yea = np.array(f.variables['anno'])\n",
      "<ipython-input-118-481d0ef7b5c1>:15: DeprecationWarning: `np.bool` is a deprecated alias for the builtin `bool`. To silence this warning, use `bool` by itself. Doing this will not modify any behavior and is safe. If you specifically wanted the numpy scalar type, use `np.bool_` here.\n",
      "Deprecated in NumPy 1.20; for more details and guidance: https://numpy.org/devdocs/release/1.20.0-notes.html#deprecations\n",
      "  doy = np.array(f.variables['giorno_rilascio_da_inizio'])\n"
     ]
    }
   ],
   "source": [
    "## MAKETIME\n",
    "#\n",
    "# fn = 'matCon_4.nc' \n",
    "# fn = 'matCon_8.nc' \n",
    "# fn = 'matCon_16.nc' \n",
    "# fn = 'matCon_32.nc' \n",
    "# fn = 'matCon_64.nc' \n",
    "# fn = 'matCon_96.nc'\n",
    "\n",
    "pth = dir_out+'data/' ;\n",
    "fn = 'matCon_B_96.nc' \n",
    "\n",
    "f = nc4.Dataset(pth+fn, 'r')\n",
    "yea = np.array(f.variables['anno'])\n",
    "doy = np.array(f.variables['giorno_rilascio_da_inizio'])\n",
    "\n",
    "DT_2013 = []\n",
    "DT_2014 = []\n",
    "DT_2015 = []\n",
    "DT_2016 = []\n",
    "DT_2017 = []\n",
    "\n",
    "mm = doy*np.nan\n",
    "for iyea in range(0,len(yea)):\n",
    "\n",
    "    for idoy in range(0,len(doy)):\n",
    "        d, y = doy[idoy], yea[iyea]\n",
    "\n",
    "        dtt = pd.to_datetime(d, unit='D', origin=str(y))\n",
    "        #print(dtt)\n",
    "        dt = datetime(dtt.year,dtt.month,dtt.day)\n",
    "        exec('DT_'+str(y)+'.append(dt)')\n",
    "        mm[idoy] = int(dt.month)\n",
    "        \n",
    "DT_2013 = np.array(DT_2013)\n",
    "DT_2014 = np.array(DT_2014)\n",
    "DT_2015 = np.array(DT_2015)\n",
    "DT_2016 = np.array(DT_2016)\n",
    "DT_2017 = np.array(DT_2017)\n",
    "DT = DT_2013\n",
    "mmy = mm.astype(int)\n",
    "mmy\n",
    "\n",
    "print(fn)"
   ]
  },
  {
   "cell_type": "code",
   "execution_count": 124,
   "id": "b37e3348-aba0-4cb0-b2c7-227b287fca9f",
   "metadata": {},
   "outputs": [
    {
     "name": "stdout",
     "output_type": "stream",
     "text": [
      "matCon_B_4.nc\n",
      "(5, 71, 61, 61)\n"
     ]
    },
    {
     "name": "stderr",
     "output_type": "stream",
     "text": [
      "<ipython-input-124-c14f260da315>:16: DeprecationWarning: `np.bool` is a deprecated alias for the builtin `bool`. To silence this warning, use `bool` by itself. Doing this will not modify any behavior and is safe. If you specifically wanted the numpy scalar type, use `np.bool_` here.\n",
      "Deprecated in NumPy 1.20; for more details and guidance: https://numpy.org/devdocs/release/1.20.0-notes.html#deprecations\n",
      "  xxxx = np.array(f.variables['matrice_conn'])\n"
     ]
    }
   ],
   "source": [
    "##### LOAD\n",
    "####\n",
    "###\n",
    "#\n",
    "\n",
    "pth = dir_out+'data/' ;\n",
    "\n",
    "fn = 'matCon_B_4.nc' \n",
    "#fn = 'matCon_B_8.nc' \n",
    "#fn = 'matCon_B_16.nc' \n",
    "#fn = 'matCon_B_32.nc' \n",
    "#fn = 'matCon_B_64.nc' \n",
    "#fn = 'matCon_B_96.nc' \n",
    "\n",
    "f = nc4.Dataset(pth+fn, 'r')\n",
    "xxxx = np.array(f.variables['matrice_conn'])\n",
    "\n",
    "print(fn)\n",
    "print(xxxx.shape)"
   ]
  },
  {
   "cell_type": "raw",
   "id": "cc65e83a-68c7-48dc-baee-76a40d830646",
   "metadata": {},
   "source": [
    "ho preparato il nuovo eseguibile in Connect, si chiama run_3, l'input rimane identico ai casi precedenti.\n",
    "- In questo caso la matrice di connettività viene definita come: Elemento (i,j) = frazione delle particelle partite dalla zona i che è passata per la zona j nel periodo assegnato da tempo_conn\n",
    "- Se nella zona i non c'erano particelle in partenza la riga della matrice è identicamente nulla\n",
    "- La matrice viene salvata come \"matCon_B_\" per distinguerla dal caso precedente"
   ]
  },
  {
   "cell_type": "raw",
   "id": "06978c3f-8beb-45ac-94e0-7ae4d66621d7",
   "metadata": {},
   "source": [
    "Elemento (i,j) = frazione delle particelle passata per la zona i nel periodo assegnato da tempo_conn che sono partite dalla zona j"
   ]
  },
  {
   "cell_type": "code",
   "execution_count": 125,
   "id": "8390f734-4c81-4dc0-acf5-1f60a94ea8a0",
   "metadata": {},
   "outputs": [
    {
     "data": {
      "text/plain": [
       "(5, 71, 61, 61)"
      ]
     },
     "execution_count": 125,
     "metadata": {},
     "output_type": "execute_result"
    },
    {
     "data": {
      "image/png": "[encoded data removed]",
      "text/plain": [
       "<Figure size 216x180 with 2 Axes>"
      ]
     },
     "metadata": {
      "needs_background": "light"
     },
     "output_type": "display_data"
    }
   ],
   "source": [
    "# check\n",
    "\n",
    "toto = xxxx[3,35,:,:]\n",
    "fig , axs =  plt.subplots(1, 1, figsize=(3,2.5))\n",
    "ax = axs\n",
    "c = ax.pcolor(toto,cmap='jet',vmin=0,vmax=1)\n",
    "fig.colorbar(c, ax=ax)\n",
    "xxxx.shape"
   ]
  },
  {
   "cell_type": "code",
   "execution_count": null,
   "id": "68646b78-62a5-45b2-a0b9-cd4105120d64",
   "metadata": {},
   "outputs": [],
   "source": []
  },
  {
   "cell_type": "code",
   "execution_count": null,
   "id": "342a81ef-22b8-461c-bf98-94407658fa9b",
   "metadata": {},
   "outputs": [],
   "source": []
  },
  {
   "cell_type": "markdown",
   "id": "ad681c4c-c99a-4823-afe4-eeb30ba561a6",
   "metadata": {
    "jp-MarkdownHeadingCollapsed": true,
    "tags": []
   },
   "source": [
    "# Declarations "
   ]
  },
  {
   "cell_type": "code",
   "execution_count": 77,
   "id": "a19ffc6d-533c-49c0-8882-00ce29f5a886",
   "metadata": {},
   "outputs": [
    {
     "name": "stdout",
     "output_type": "stream",
     "text": [
      "['Formia' 'Minturno' 'Cellole' 'Dominzia' 'Mondragrone' 'Volturno'\n",
      " 'Coppola' 'Patria' 'Torregaveta' 'IschiAMP' 'IschiaNW' 'CanaleN'\n",
      " 'CanaleW' 'CanaleE' 'Bagnoli' 'Gaiola' 'Napoli-MC' 'TorrGr' 'Sarno'\n",
      " 'VicoSorr' 'MassaL' 'Capri' 'CanyonDohrn' 'BoccaP' 'PuntaCamp'\n",
      " 'Fontanelle' 'Positano' 'Praiano' 'Maiori' 'Cetara' 'VietriSalerno'\n",
      " 'Arechi' 'Aversana' 'Sele' 'Paestum' 'Agropoli' 'S.MariaCast' 'GaeTi1'\n",
      " 'GaeTi2' 'GaeTi3' 'GaeTi4' 'GaeTi5' 'GaeTi6' 'GaeTi7' 'GaeTi8' 'BoccaG1'\n",
      " 'BoccaG2' 'BoccaG3' 'BoccaG4' 'BoccaG5' 'SalerTirr1' 'SalerTirr2'\n",
      " 'SalerTirr3' 'SalerTirr4' 'SalerTirr5' 'SalerTirr6' 'SalerTirr7'\n",
      " 'SalerTirr8' 'SalerTirr9' 'SalerTirr10' 'SalernTirr11']\n"
     ]
    }
   ],
   "source": [
    "zones_names = np.array(S['zone names'])\n",
    "print(zones_names)"
   ]
  },
  {
   "cell_type": "code",
   "execution_count": 78,
   "id": "35d52064-73aa-4dda-80c6-e76d3c5f8817",
   "metadata": {},
   "outputs": [
    {
     "data": {
      "text/plain": [
       "array([ 1,  1,  1,  1,  1,  1,  1,  1,  1,  1,  1, 12, 12, 12,  2,  2,  2,\n",
       "        2,  2,  2,  2,  2,  2, 23,  3,  3,  3,  3,  3,  3,  3,  3,  3,  3,\n",
       "        3,  3,  3,  1,  1,  1,  1,  1,  1,  1,  1,  2,  2,  2,  2,  2,  3,\n",
       "        3,  3,  3,  3,  3,  3,  3,  3,  3,  3])"
      ]
     },
     "execution_count": 78,
     "metadata": {},
     "output_type": "execute_result"
    }
   ],
   "source": [
    "imacro = np.array(S.iloc[:,1])\n",
    "\n",
    "imacro_simple = imacro*1\n",
    "imacro_simple[imacro_simple==100] = 1\n",
    "imacro_simple[imacro_simple==200] = 2\n",
    "imacro_simple[imacro_simple==300] = 3\n",
    "\n",
    "imacro_simple[imacro_simple==12] = 12\n",
    "imacro_simple[imacro_simple==23] = 23\n",
    "\n",
    "imacro_simple[imacro_simple==10] = 1\n",
    "imacro_simple[imacro_simple==20] = 2\n",
    "imacro_simple[imacro_simple==30] = 3\n",
    "\n",
    "imacro_simple"
   ]
  },
  {
   "cell_type": "code",
   "execution_count": 79,
   "id": "d87ef0b2-23c1-41c5-ac7f-e0932f40b5d2",
   "metadata": {},
   "outputs": [
    {
     "name": "stdout",
     "output_type": "stream",
     "text": [
      "61 zones \n",
      "\n",
      "IDs: 1     N: 10\n",
      "IDs: 2     N: 8\n",
      "IDs: 3     N: 12\n",
      "IDs: 10     N: 8\n",
      "IDs: 12     N: 3\n",
      "IDs: 20     N: 5\n",
      "IDs: 23     N: 1\n",
      "IDs: 30     N: 11\n",
      "IDs: 100     N: 1\n",
      "IDs: 200     N: 1\n",
      "IDs: 300     N: 1\n"
     ]
    }
   ],
   "source": [
    "imacro = np.array(S.iloc[:,1])\n",
    "nmacro = imacro*np.nan\n",
    "print(len(imacro),'zones \\n')\n",
    "\n",
    "unique_macro_list = np.unique(imacro)\n",
    "Imacro = unique_macro_list\n",
    "Nmacro = Imacro*np.nan\n",
    "for p in range(0,len(Imacro)) :\n",
    "    f = np.where(imacro == Imacro[p])[0]\n",
    "    Nmacro[p] = len(f)\n",
    "    print('IDs:', Imacro[p],'    N:',len(f))  "
   ]
  },
  {
   "cell_type": "code",
   "execution_count": 80,
   "id": "68ee5697-baf7-4fa4-8611-3fd6373a21a1",
   "metadata": {},
   "outputs": [
    {
     "name": "stdout",
     "output_type": "stream",
     "text": [
      "[  1   1   1   1   1 100   1   1   1   1   1  12  12  12   2   2   2   2\n",
      " 200   2   2   2   2  23   3   3   3   3   3   3   3   3   3 300   3   3\n",
      "   3  10  10  10  10  10  10  10  10  20  20  20  20  20  30  30  30  30\n",
      "  30  30  30  30  30  30  30]\n",
      "[  1   2   3  10  12  20  23  30 100 200 300]\n",
      "[10.  8. 12.  8.  3.  5.  1. 11.  1.  1.  1.]\n"
     ]
    },
    {
     "data": {
      "text/plain": [
       "61.0"
      ]
     },
     "execution_count": 80,
     "metadata": {},
     "output_type": "execute_result"
    }
   ],
   "source": [
    "print(imacro)\n",
    "print(Imacro)\n",
    "print(Nmacro)\n",
    "np.sum(Nmacro)"
   ]
  },
  {
   "cell_type": "markdown",
   "id": "cd8fc3f0-38da-4405-8ace-9919e87d0c2d",
   "metadata": {},
   "source": [
    "# COUNT"
   ]
  },
  {
   "cell_type": "code",
   "execution_count": 126,
   "id": "33234914-0e58-4fe7-b8a3-443b62dbfdd5",
   "metadata": {},
   "outputs": [
    {
     "name": "stdout",
     "output_type": "stream",
     "text": [
      "Counted\n"
     ]
    }
   ],
   "source": [
    "# sum of periods of [2013-2017] (00=full year, 01=DJF, 02=MAM, 03=JJA, 04=SON)\n",
    "#\n",
    "CC_00, CC_01, CC_02, CC_03, CC_04, CC_00_metric2, CC_01_metric2, CC_02_metric2, CC_03_metric2, CC_04_metric2, lc01,lc02,lc03,lc04 = sum_matrice_conn(xxxx,mmy)\n",
    "\n",
    "# specific period: args= year, doy1, doy2\n",
    "#\n",
    "PP, PP_metric2 = sum_matrice_conn_PERIO(xxxx,yea,doy,2015,1,100)\n",
    "\n",
    "# sub-sums of the matrix elements by groups\n",
    "#\n",
    "xxxx_macro = sum_matrice_conn_MACRO(xxxx,imacro)\n",
    "GG_00, GG_01, GG_02, GG_03, GG_04, GG_00_metric2, GG_01_metric2, GG_02_metric2, GG_03_metric2, GG_04_metric2, lg01,lg02,lg03,lg04 = sum_matrice_conn(xxxx_macro,mmy)\n",
    "\n",
    "print('Counted')"
   ]
  },
  {
   "cell_type": "code",
   "execution_count": 127,
   "id": "34a63706-78f3-4a8a-8b01-d13f65ef343c",
   "metadata": {},
   "outputs": [
    {
     "name": "stdout",
     "output_type": "stream",
     "text": [
      "[1482550.  334096.  396739.  375858.  375858.]\n",
      "16 19 18 18\n",
      "16 19 18 18\n"
     ]
    }
   ],
   "source": [
    "N = 254748\n",
    "NZ = N / len(zones_names)\n",
    "NZ_00 = NZ * 71 * 5\n",
    "NZ_01 = NZ * lc01 * 5\n",
    "NZ_02 = NZ * lc02 * 5\n",
    "NZ_03 = NZ * lc03 * 5\n",
    "NZ_04 = NZ * lc04 * 5\n",
    "print(np.round([NZ_00,NZ_01,NZ_02,NZ_03,NZ_04]))\n",
    "\n",
    "print(lc01,lc02,lc03,lc04)\n",
    "print(lg01,lg02,lg03,lg04)"
   ]
  },
  {
   "cell_type": "markdown",
   "id": "b4346606-e951-4886-9581-c1b98201a796",
   "metadata": {},
   "source": [
    "# PLOTS"
   ]
  },
  {
   "cell_type": "code",
   "execution_count": 128,
   "id": "6926ea8d-12b4-4a8e-ad24-38aed1c213bb",
   "metadata": {},
   "outputs": [
    {
     "name": "stdout",
     "output_type": "stream",
     "text": [
      "0     MM = CC_00*NZ_00\n"
     ]
    },
    {
     "name": "stderr",
     "output_type": "stream",
     "text": [
      "<ipython-input-128-e92c6407e4fe>:44: RuntimeWarning: divide by zero encountered in log10\n",
      "  sc = ax.scatter(lonC,latC, s=120, c=np.log10(MM[i,A]), norm=norm, cmap=cmap,marker='o',edgecolors='k',lw=1)\n",
      "<ipython-input-128-e92c6407e4fe>:44: RuntimeWarning: divide by zero encountered in log10\n",
      "  sc = ax.scatter(lonC,latC, s=120, c=np.log10(MM[i,A]), norm=norm, cmap=cmap,marker='o',edgecolors='k',lw=1)\n",
      "<ipython-input-128-e92c6407e4fe>:44: RuntimeWarning: divide by zero encountered in log10\n",
      "  sc = ax.scatter(lonC,latC, s=120, c=np.log10(MM[i,A]), norm=norm, cmap=cmap,marker='o',edgecolors='k',lw=1)\n"
     ]
    },
    {
     "name": "stdout",
     "output_type": "stream",
     "text": [
      "1     MM = CC_01*NZ_01\n"
     ]
    },
    {
     "name": "stderr",
     "output_type": "stream",
     "text": [
      "<ipython-input-128-e92c6407e4fe>:44: RuntimeWarning: divide by zero encountered in log10\n",
      "  sc = ax.scatter(lonC,latC, s=120, c=np.log10(MM[i,A]), norm=norm, cmap=cmap,marker='o',edgecolors='k',lw=1)\n",
      "<ipython-input-128-e92c6407e4fe>:44: RuntimeWarning: divide by zero encountered in log10\n",
      "  sc = ax.scatter(lonC,latC, s=120, c=np.log10(MM[i,A]), norm=norm, cmap=cmap,marker='o',edgecolors='k',lw=1)\n",
      "<ipython-input-128-e92c6407e4fe>:44: RuntimeWarning: divide by zero encountered in log10\n",
      "  sc = ax.scatter(lonC,latC, s=120, c=np.log10(MM[i,A]), norm=norm, cmap=cmap,marker='o',edgecolors='k',lw=1)\n"
     ]
    },
    {
     "name": "stdout",
     "output_type": "stream",
     "text": [
      "2     MM = CC_02*NZ_02\n"
     ]
    },
    {
     "name": "stderr",
     "output_type": "stream",
     "text": [
      "<ipython-input-128-e92c6407e4fe>:44: RuntimeWarning: divide by zero encountered in log10\n",
      "  sc = ax.scatter(lonC,latC, s=120, c=np.log10(MM[i,A]), norm=norm, cmap=cmap,marker='o',edgecolors='k',lw=1)\n",
      "<ipython-input-128-e92c6407e4fe>:44: RuntimeWarning: divide by zero encountered in log10\n",
      "  sc = ax.scatter(lonC,latC, s=120, c=np.log10(MM[i,A]), norm=norm, cmap=cmap,marker='o',edgecolors='k',lw=1)\n",
      "<ipython-input-128-e92c6407e4fe>:44: RuntimeWarning: divide by zero encountered in log10\n",
      "  sc = ax.scatter(lonC,latC, s=120, c=np.log10(MM[i,A]), norm=norm, cmap=cmap,marker='o',edgecolors='k',lw=1)\n"
     ]
    },
    {
     "name": "stdout",
     "output_type": "stream",
     "text": [
      "3     MM = CC_03*NZ_03\n"
     ]
    },
    {
     "name": "stderr",
     "output_type": "stream",
     "text": [
      "<ipython-input-128-e92c6407e4fe>:44: RuntimeWarning: divide by zero encountered in log10\n",
      "  sc = ax.scatter(lonC,latC, s=120, c=np.log10(MM[i,A]), norm=norm, cmap=cmap,marker='o',edgecolors='k',lw=1)\n",
      "<ipython-input-128-e92c6407e4fe>:44: RuntimeWarning: divide by zero encountered in log10\n",
      "  sc = ax.scatter(lonC,latC, s=120, c=np.log10(MM[i,A]), norm=norm, cmap=cmap,marker='o',edgecolors='k',lw=1)\n",
      "<ipython-input-128-e92c6407e4fe>:44: RuntimeWarning: divide by zero encountered in log10\n",
      "  sc = ax.scatter(lonC,latC, s=120, c=np.log10(MM[i,A]), norm=norm, cmap=cmap,marker='o',edgecolors='k',lw=1)\n"
     ]
    },
    {
     "name": "stdout",
     "output_type": "stream",
     "text": [
      "4     MM = CC_04*NZ_04\n"
     ]
    },
    {
     "name": "stderr",
     "output_type": "stream",
     "text": [
      "<ipython-input-128-e92c6407e4fe>:44: RuntimeWarning: divide by zero encountered in log10\n",
      "  sc = ax.scatter(lonC,latC, s=120, c=np.log10(MM[i,A]), norm=norm, cmap=cmap,marker='o',edgecolors='k',lw=1)\n",
      "<ipython-input-128-e92c6407e4fe>:44: RuntimeWarning: divide by zero encountered in log10\n",
      "  sc = ax.scatter(lonC,latC, s=120, c=np.log10(MM[i,A]), norm=norm, cmap=cmap,marker='o',edgecolors='k',lw=1)\n",
      "<ipython-input-128-e92c6407e4fe>:44: RuntimeWarning: divide by zero encountered in log10\n",
      "  sc = ax.scatter(lonC,latC, s=120, c=np.log10(MM[i,A]), norm=norm, cmap=cmap,marker='o',edgecolors='k',lw=1)\n"
     ]
    },
    {
     "name": "stdout",
     "output_type": "stream",
     "text": [
      "coucou\n"
     ]
    }
   ],
   "source": [
    "XX, YY = np.meshgrid(lon + np.mean(np.diff(lon))/2,lat + np.mean(np.diff(lat))/2)\n",
    "\n",
    "\n",
    "durata = int(fn.split('.')[0].split('_')[2])\n",
    "\n",
    "for SEAS in range(0,4+1):   \n",
    "    comd = 'MM = CC_0'+str(SEAS)+'*NZ_0'+str(SEAS)\n",
    "    print(SEAS,'   ',comd)\n",
    "    exec(comd)\n",
    "    if SEAS == 0:    seaso_str = 'YYY [2013-2017]'\n",
    "    elif SEAS == 1:  seaso_str = 'DJF [2013-2017]'\n",
    "    elif SEAS == 2:  seaso_str = 'MAM [2013-2017]'\n",
    "    elif SEAS == 3:  seaso_str = 'JJA [2013-2017]'\n",
    "    elif SEAS == 4:  seaso_str = 'SON [2013-2017]'\n",
    "                    \n",
    "    \n",
    "    title_str_a = seaso_str\n",
    "    title_str_b = '$N_{count}^{}$ '+str(durata)+ 'days after '\n",
    "    title_str_c = fn\n",
    "    \n",
    "    from matplotlib import colors\n",
    "    cmap = plt.cm.jet\n",
    "    delt = .1\n",
    "    norm = colors.BoundaryNorm(np.arange(2, 6 + delt, delt), cmap.N)\n",
    "    \n",
    "    for a in range(0,2+1):\n",
    "        fig, axs = plt.subplots(1, 1,figsize=(4,4.5))\n",
    "        ax = axs\n",
    "        ax.set_xlim([13.50,15.10])\n",
    "        ax.set_ylim([40.15,41.30])\n",
    "        ax.set_xlabel('Longitude $(decimal \\degree)$', fontsize=10)\n",
    "        ax.set_ylabel('Latitude $(decimal \\degree)$', fontsize=10)\n",
    "        ax.plot(TCOAST_lon,TCOAST_lat,'k-',lw=1)\n",
    "        #for i in range(0,len(DOM_X)):\n",
    "        for i in range(0,36+1):\n",
    "            lonC = S['lon C'][i]\n",
    "            latC = S['lat C'][i]\n",
    "\n",
    "            if a == 0:   A = 5  ; title_case = '\\n'+'\\n'+'Emission: Volturno'; \n",
    "            elif a == 1: A = 18 ; title_case = '\\n'+'\\n'+'Emission: Sarno'; \n",
    "            elif a == 2: A = 33 ; title_case = '\\n'+'\\n'+'Emission: Sele'; \n",
    "            \n",
    "            ax.plot(lonC,latC,'o',color='k',markersize=11,markerfacecolor='k',alpha=.08, markeredgecolor='k',lw=1)\n",
    "            sc = ax.scatter(lonC,latC, s=120, c=np.log10(MM[i,A]), norm=norm, cmap=cmap,marker='o',edgecolors='k',lw=1)\n",
    "        ax.plot(13.9175+dlon/4,40.9584+dlat,'*',color='w',markersize=16,markeredgecolor='k',lw=4)\n",
    "        ax.plot(14.4013+1.25*dlon,40.685+dlat/1.5,'*',color='w',markersize=16,markeredgecolor='k',lw=4)\n",
    "        ax.plot(14.8729+1.25*dlon,40.4527+dlat/1.5,'*',color='w',markersize=16,markeredgecolor='k',lw=4)\n",
    "        \n",
    "        ax.text(13.9175+dlon/4+0.08,40.9584+dlat,'Volturno',fontsize=8)\n",
    "        ax.text(14.4013+1.25*dlon+0.08,40.685+dlat/1.5,'Sarno',fontsize=8)\n",
    "        ax.text(14.8729+1.25*dlon,40.4527+dlat/1.5+0.04,'Sele',fontsize=8)\n",
    "        ax.text(14.2,40.88,'Napoli',fontsize=8)\n",
    "        \n",
    "        \n",
    "        ax.set_title(title_str_a+'\\n'+title_str_b+'\\n'+title_case,loc='left',fontsize=16) \n",
    "        \n",
    "        cbar = fig.colorbar(sc)\n",
    "        cbar.ax.set_yticks(np.arange(2,7,1))  \n",
    "        cbar.ax.set_yticklabels(['$10^2$','$10^3$','$10^4$','$10^5$','$10^6$'])  \n",
    "\n",
    "\n",
    "        fig.tight_layout(pad=1)\n",
    "        fig_filename = 'EMITTED_FROM_'+str(a)+'_count_after_'+str(durata)+'d_'+seaso_str[0:3]\n",
    "        \n",
    "\n",
    "        fig.savefig(dir_out+'plots/'+str(durata)+'/' + fig_filename + '.pdf')\n",
    "        fig.savefig(dir_out+'plots/'+str(durata)+'/' + fig_filename + '.png', dpi=600)\n",
    "        \n",
    "        plt.close(fig)\n",
    "print('coucou')"
   ]
  },
  {
   "cell_type": "markdown",
   "id": "892d2e2a-91f0-4a14-b404-d27622d00a3b",
   "metadata": {},
   "source": [
    "# PLOTS"
   ]
  },
  {
   "cell_type": "code",
   "execution_count": 31,
   "id": "f7778c5f-c3ce-4b02-834c-2235e8f215e3",
   "metadata": {},
   "outputs": [
    {
     "name": "stdout",
     "output_type": "stream",
     "text": [
      "IschiAMP\n",
      "Gaiola\n",
      "Napoli-MC\n",
      "CanyonDohrn\n",
      "PuntaCamp\n"
     ]
    }
   ],
   "source": [
    "print(zones_names[9])\n",
    "print(zones_names[15])\n",
    "print(zones_names[16])\n",
    "print(zones_names[22])\n",
    "print(zones_names[24])"
   ]
  },
  {
   "cell_type": "code",
   "execution_count": null,
   "id": "de6dcc45-f96d-4d76-afc0-b4b8ffe8fbe5",
   "metadata": {},
   "outputs": [],
   "source": []
  },
  {
   "cell_type": "code",
   "execution_count": null,
   "id": "0aafca97-8173-4a76-b08c-7913cb64560b",
   "metadata": {},
   "outputs": [],
   "source": [
    "T = []\n",
    "for i in range(0,len(DOM_X)):\n",
    "    per = np.round(100*len(np.where(MM[:,i]==0)[0])/61,0)\n",
    "    if per == 100.0 :\n",
    "        #print(i,per)\n",
    "        T.append(i)\n",
    "T = np.array(T)\n",
    "zones_names[T]\n",
    "T"
   ]
  },
  {
   "cell_type": "code",
   "execution_count": 129,
   "id": "a909680e-bc9a-405f-ab7e-ce20227722c4",
   "metadata": {},
   "outputs": [
    {
     "name": "stdout",
     "output_type": "stream",
     "text": [
      "0     MM = CC_00*NZ_00\n"
     ]
    },
    {
     "name": "stderr",
     "output_type": "stream",
     "text": [
      "<ipython-input-129-2261238994cd>:45: RuntimeWarning: divide by zero encountered in log10\n",
      "  sc = ax.scatter(lonC,latC, s=120, c=np.log10(MM[A,i]), norm=norm, cmap=cmap,marker='o',edgecolors='k',lw=1)\n"
     ]
    },
    {
     "name": "stdout",
     "output_type": "stream",
     "text": [
      "1     MM = CC_01*NZ_01\n"
     ]
    },
    {
     "name": "stderr",
     "output_type": "stream",
     "text": [
      "<ipython-input-129-2261238994cd>:45: RuntimeWarning: divide by zero encountered in log10\n",
      "  sc = ax.scatter(lonC,latC, s=120, c=np.log10(MM[A,i]), norm=norm, cmap=cmap,marker='o',edgecolors='k',lw=1)\n"
     ]
    },
    {
     "name": "stdout",
     "output_type": "stream",
     "text": [
      "2     MM = CC_02*NZ_02\n"
     ]
    },
    {
     "name": "stderr",
     "output_type": "stream",
     "text": [
      "<ipython-input-129-2261238994cd>:45: RuntimeWarning: divide by zero encountered in log10\n",
      "  sc = ax.scatter(lonC,latC, s=120, c=np.log10(MM[A,i]), norm=norm, cmap=cmap,marker='o',edgecolors='k',lw=1)\n"
     ]
    },
    {
     "name": "stdout",
     "output_type": "stream",
     "text": [
      "3     MM = CC_03*NZ_03\n"
     ]
    },
    {
     "name": "stderr",
     "output_type": "stream",
     "text": [
      "<ipython-input-129-2261238994cd>:45: RuntimeWarning: divide by zero encountered in log10\n",
      "  sc = ax.scatter(lonC,latC, s=120, c=np.log10(MM[A,i]), norm=norm, cmap=cmap,marker='o',edgecolors='k',lw=1)\n"
     ]
    },
    {
     "name": "stdout",
     "output_type": "stream",
     "text": [
      "4     MM = CC_04*NZ_04\n"
     ]
    },
    {
     "name": "stderr",
     "output_type": "stream",
     "text": [
      "<ipython-input-129-2261238994cd>:45: RuntimeWarning: divide by zero encountered in log10\n",
      "  sc = ax.scatter(lonC,latC, s=120, c=np.log10(MM[A,i]), norm=norm, cmap=cmap,marker='o',edgecolors='k',lw=1)\n"
     ]
    },
    {
     "name": "stdout",
     "output_type": "stream",
     "text": [
      "COUCOU\n"
     ]
    }
   ],
   "source": [
    "XX, YY = np.meshgrid(lon + np.mean(np.diff(lon))/2,lat + np.mean(np.diff(lat))/2)\n",
    "\n",
    "durata = int(fn.split('.')[0].split('_')[2])\n",
    "\n",
    "for SEAS in range(0,4+1):   \n",
    "    comd = 'MM = CC_0'+str(SEAS)+'*NZ_0'+str(SEAS)\n",
    "    print(SEAS,'   ',comd)\n",
    "    exec(comd)\n",
    "    if SEAS == 0:    seaso_str = 'YYY [2013-2017]'\n",
    "    elif SEAS == 1:  seaso_str = 'DJF [2013-2017]'\n",
    "    elif SEAS == 2:  seaso_str = 'MAM [2013-2017]'\n",
    "    elif SEAS == 3:  seaso_str = 'JJA [2013-2017]'\n",
    "    elif SEAS == 4:  seaso_str = 'SON [2013-2017]'\n",
    "                    \n",
    "    title_str_a = seaso_str\n",
    "    title_str_b = '$N_{count}^{}$ '+str(durata)+ 'days before'\n",
    "    title_str_c = fn\n",
    "    \n",
    "    from matplotlib import colors\n",
    "    cmap = plt.cm.jet\n",
    "    delt = .1\n",
    "    norm = colors.BoundaryNorm(np.arange(2, 6 + delt, delt), cmap.N)\n",
    "    \n",
    "    fig, axs = plt.subplots(1, 5,figsize=(21,4.5))\n",
    "    for a in range(0,4+1):\n",
    "        ax = axs[a]\n",
    "        ax.set_xlim([13.50,15.10])\n",
    "        ax.set_ylim([40.15,41.30])\n",
    "        ax.set_xlabel('Longitude $(decimal \\degree)$', fontsize=10)\n",
    "        ax.set_ylabel('Latitude $(decimal \\degree)$', fontsize=10)\n",
    "        ax.plot(TCOAST_lon,TCOAST_lat,'k-',lw=1)\n",
    "        #for i in range(0,len(DOM_X)):\n",
    "        for i in range(0,36+1):\n",
    "            lonC = S['lon C'][i]\n",
    "            latC = S['lat C'][i]\n",
    "      \n",
    "            if a == 0:   A = 9 ; title_case = '\\n'+'\\n'+'Origin of particles'+'\\n'+'Destination: '+zones_names[A]; \n",
    "            elif a == 1: A = 15; title_case = '\\n'+'\\n'+'Origin of particles'+'\\n'+'Destination: '+zones_names[A]; \n",
    "            elif a == 2: A = 16; title_case = '\\n'+'\\n'+'Origin of particles'+'\\n'+'Destination: '+zones_names[A]; \n",
    "            elif a == 3: A = 22; title_case = '\\n'+'\\n'+'Origin of particles'+'\\n'+'Destination: '+zones_names[A]; \n",
    "            elif a == 4: A = 24; title_case = '\\n'+'\\n'+'Origin of particles'+'\\n'+'Destination: '+zones_names[A]; \n",
    "           \n",
    "            if i != A:\n",
    "                ax.plot(lonC,latC,'o',color='k',markersize=11,markerfacecolor='k',alpha=.08, markeredgecolor='k',lw=1)\n",
    "                sc = ax.scatter(lonC,latC, s=120, c=np.log10(MM[A,i]), norm=norm, cmap=cmap,marker='o',edgecolors='k',lw=1)\n",
    "            #ax.plot(S['lon C'][A],S['lat C'][A],'+',color='k',markersize=16,markeredgewidth=4)\n",
    "            ax.plot(S['lon C'][A],S['lat C'][A],'o',color='w',markersize=11,markerfacecolor='w',alpha=.8, markeredgecolor='k',lw=1)\n",
    "            \n",
    "        ax.plot(13.9175+dlon/4,40.9584+dlat,'*',color='w',markersize=16,markeredgecolor='k',lw=4)\n",
    "        ax.plot(14.4013+1.25*dlon,40.685+dlat/1.5,'*',color='w',markersize=16,markeredgecolor='k',lw=4)\n",
    "        ax.plot(14.8729+1.25*dlon,40.4527+dlat/1.5,'*',color='w',markersize=16,markeredgecolor='k',lw=4)\n",
    "        \n",
    "        ax.text(13.9175+dlon/4+0.08,40.9584+dlat,'Volturno',fontsize=8)\n",
    "        ax.text(14.4013+1.25*dlon+0.08,40.685+dlat/1.5,'Sarno',fontsize=8)\n",
    "        ax.text(14.8729+1.25*dlon,40.4527+dlat/1.5+0.04,'Sele',fontsize=8)\n",
    "        ax.text(14.2,40.88,'Napoli',fontsize=8)\n",
    "        \n",
    "        if a == 0:\n",
    "            ax.set_title(title_str_a+title_case,loc='left',fontsize=16)\n",
    "        if a == 1:\n",
    "            ax.set_title(title_str_b+title_case,loc='left',fontsize=16)\n",
    "        if a == 2:\n",
    "            ax.set_title(title_str_c+title_case,loc='left',fontsize=16) \n",
    "        if a == 3:\n",
    "            ax.set_title(''+title_case,loc='left',fontsize=16) \n",
    "        if a == 4:\n",
    "            ax.set_title(''+title_case,loc='left',fontsize=16) \n",
    "\n",
    "        cbar = fig.colorbar(sc)\n",
    "        cbar.ax.set_yticks(np.arange(2,7,1))  \n",
    "        cbar.ax.set_yticklabels(['$10^2$','$10^3$','$10^4$','$10^5$','$10^6$'])  \n",
    "\n",
    "\n",
    "    fig.tight_layout(pad=1)\n",
    "    fig_filename = 'ARRIVED_AT___count_after_'+str(durata)+'d_'+seaso_str[0:3]\n",
    "    fig.savefig(dir_out+'plots/'+str(durata)+'/' + fig_filename + '.pdf')\n",
    "    fig.savefig(dir_out+'plots/'+str(durata)+'/' + fig_filename + '.png', dpi=600)\n",
    "    \n",
    "    plt.close(fig)\n",
    "    \n",
    "print('COUCOU')"
   ]
  },
  {
   "cell_type": "code",
   "execution_count": null,
   "id": "9391fa15-eff2-43f9-8eba-245729678a90",
   "metadata": {},
   "outputs": [],
   "source": []
  }
 ],
 "metadata": {
  "kernelspec": {
   "display_name": "Python 3",
   "language": "python",
   "name": "python3"
  },
  "language_info": {
   "codemirror_mode": {
    "name": "ipython",
    "version": 3
   },
   "file_extension": ".py",
   "mimetype": "text/x-python",
   "name": "python",
   "nbconvert_exporter": "python",
   "pygments_lexer": "ipython3",
   "version": "3.8.5"
  }
 },
 "nbformat": 4,
 "nbformat_minor": 5
}
